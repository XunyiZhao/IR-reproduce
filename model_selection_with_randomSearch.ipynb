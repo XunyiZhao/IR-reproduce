{
 "cells": [
  {
   "cell_type": "code",
   "execution_count": 1,
   "metadata": {},
   "outputs": [],
   "source": [
    "import numpy as np\n",
    "import matplotlib.pyplot as plt\n",
    "import pandas as pd\n",
    "import itertools\n",
    "import warnings\n",
    "warnings.filterwarnings('ignore')\n",
    "\n",
    "from sklearn.model_selection import train_test_split\n",
    "from sklearn.multioutput import ClassifierChain\n",
    "from sklearn.multiclass import OneVsRestClassifier\n",
    "\n",
    "from sklearn.naive_bayes import GaussianNB\n",
    "from sklearn.svm import SVC\n",
    "from sklearn.ensemble import RandomForestClassifier\n",
    "from sklearn.ensemble import AdaBoostClassifier\n",
    "from sklearn.neighbors import KNeighborsClassifier\n",
    "from sklearn.model_selection import RandomizedSearchCV\n",
    "from sklearn.multioutput import MultiOutputClassifier\n",
    "from sklearn.metrics import accuracy_score,f1_score, precision_score, recall_score\n",
    "\n",
    "from tqdm import tqdm_notebook\n",
    "import random"
   ]
  },
  {
   "cell_type": "code",
   "execution_count": 14,
   "metadata": {},
   "outputs": [],
   "source": [
    "x_train = pd.read_csv('data/x_train.csv')\n",
    "y_train = pd.read_csv('data/y_train.csv')\n",
    "x_val = pd.read_csv('data/x_val.csv')\n",
    "y_val = pd.read_csv('data/y_val.csv')\n",
    "x_test = pd.read_csv('data/x_test.csv')\n",
    "y_test = pd.read_csv('data/y_test.csv')"
   ]
  },
  {
   "cell_type": "code",
   "execution_count": 8,
   "metadata": {},
   "outputs": [],
   "source": [
    "def classifier_chain(model, x_train, y_train, x_test, y_test,num_chain = 10):\n",
    "    if 'utterance' in x_train.columns:\n",
    "        x_train = x_train.drop('utterance', axis=1)\n",
    "        x_test = x_test.drop('utterance', axis=1)\n",
    "    chains = [ClassifierChain(model, order='random', random_state=i)\n",
    "              for i in range(num_chain)]\n",
    "    for chain in chains:\n",
    "        chain.fit(x_train, y_train)\n",
    "\n",
    "    y_pred = np.array([chain.predict(x_test) for chain in\n",
    "                              chains]).mean(axis=0)\n",
    "    \n",
    "    acc = np.mean(np.sum(np.logical_and((y_pred>0.5), y_test), axis = 1)/np.sum(np.logical_or((y_pred>0.5), y_test), axis = 1))\n",
    "    precision = np.mean(np.sum(np.logical_and((y_pred>0.5), y_test), axis = 1)/np.sum((y_pred>0.5), axis = 1))\n",
    "    recall = np.mean(np.sum(np.logical_and((y_pred>0.5), y_test), axis = 1)/np.sum(y_test, axis = 1))\n",
    "    F1 = 2*(precision*recall)/(precision+recall)\n",
    "    return acc, precision, recall, F1\n"
   ]
  },
  {
   "cell_type": "markdown",
   "metadata": {},
   "source": [
    "GaussianNB : No hyperparameters needed"
   ]
  },
  {
   "cell_type": "code",
   "execution_count": 9,
   "metadata": {},
   "outputs": [
    {
     "name": "stdout",
     "output_type": "stream",
     "text": [
      "Accuracy: 0.3782589262589262\n",
      "Precision: 0.490134987049213\n",
      "Recall: 0.6117106227106228\n",
      "F1 score: 0.5442155878907348\n"
     ]
    }
   ],
   "source": [
    "NB = GaussianNB()\n",
    "acc, precision, recall, F1 = classifier_chain(NB,x_train, y_train, x_test,y_test)\n",
    "print('Accuracy:', acc)\n",
    "print('Precision:', precision)\n",
    "print('Recall:', recall)\n",
    "print('F1 score:', F1)"
   ]
  },
  {
   "cell_type": "code",
   "execution_count": null,
   "metadata": {},
   "outputs": [],
   "source": [
    "# clf2 = MultiOutputClassifier(GaussianNB()).fit(x_train, y_train)\n",
    "\n",
    "# y_pred = clf2.predict(x_test)\n",
    "# acc = np.mean(np.sum(np.logical_and((y_pred>0.5), y_test), axis = 1)/np.sum(np.logical_or((y_pred>0.5), y_test), axis = 1))\n",
    "# precision = np.mean(np.sum(np.logical_and((y_pred>0.5), y_test), axis = 1)/np.sum((y_pred>0.5), axis = 1))\n",
    "# recall = np.mean(np.sum(np.logical_and((y_pred>0.5), y_test), axis = 1)/np.sum(y_test, axis = 1))\n",
    "# F1 = 2*(precision*recall)/(precision+recall)\n",
    "\n",
    "# print('Accuracy:', acc)\n",
    "# print('Precision:', precision)\n",
    "# print('Recall:', recall)\n",
    "# print('F1 score:', F1)"
   ]
  },
  {
   "cell_type": "markdown",
   "metadata": {},
   "source": [
    "SVM"
   ]
  },
  {
   "cell_type": "code",
   "execution_count": null,
   "metadata": {},
   "outputs": [],
   "source": [
    "cols = [\"c\",\"kernel\", \"gamma\",\"acc\",\"pre\",\"rec\",\"f1\"]\n",
    "svm_val_result = []\n",
    "c_values= [0.2,0.4,0.6, 1,1.5, 2]\n",
    "kernels = [\"rbf\",\"poly\",\"sigmoid\"] \n",
    "gamma = [\"scale\",\"auto\"]\n",
    "param_zips = list(itertools.product(c_values, kernels, gamma))\n",
    "selected_params = np.sample(param_zips,k=5)\n",
    "\n",
    "for (c, kernel, gamma) in tqdm_notebook(selected_params):\n",
    "    svm_clf = SVC(C=c, kernel=kernel, gamma=gamma)\n",
    "    acc, precision, recall, F1 = classifier_chain(svm_clf,x_val, y_val)\n",
    "    svm_val_result = svm_val_result.append([c,kernel, gamma, acc, precision, recall, F1])"
   ]
  },
  {
   "cell_type": "code",
   "execution_count": null,
   "metadata": {},
   "outputs": [],
   "source": [
    "svm_val_df = pd.DataFrame(svm_val_result,columns=col)\n",
    "svm_val_df"
   ]
  },
  {
   "cell_type": "markdown",
   "metadata": {},
   "source": [
    "RandomForest"
   ]
  },
  {
   "cell_type": "code",
   "execution_count": 46,
   "metadata": {},
   "outputs": [
    {
     "data": {
      "application/vnd.jupyter.widget-view+json": {
       "model_id": "8fa6faa001a7426bbd609330b6390791",
       "version_major": 2,
       "version_minor": 0
      },
      "text/plain": [
       "HBox(children=(IntProgress(value=0, max=20), HTML(value='')))"
      ]
     },
     "metadata": {},
     "output_type": "display_data"
    }
   ],
   "source": [
    "max_depth = [int(x) for x in np.linspace(5, 50, num = 4)]\n",
    "min_samples_split = [2, 5, 10]\n",
    "min_samples_leaf = [1, 2, 4]\n",
    "rf_val_result = []\n",
    "param_zips = list(itertools.product(max_depth, min_samples_split,min_samples_leaf))\n",
    "selected_params = random.sample(param_zips, k=20)\n",
    "\n",
    "for (depth, split, leaf) in tqdm_notebook(selected_params):\n",
    "    rf_clf = RandomForestClassifier(max_depth=depth, min_samples_split= split, min_samples_leaf=leaf,n_jobs=6)\n",
    "    acc, precision, recall, F1 = classifier_chain(rf_clf, x_train, y_train, x_val, y_val)\n",
    "    rf_val_result.append([depth, split, leaf, acc, precision, recall, F1])"
   ]
  },
  {
   "cell_type": "code",
   "execution_count": 47,
   "metadata": {},
   "outputs": [
    {
     "data": {
      "text/html": [
       "<div>\n",
       "<style scoped>\n",
       "    .dataframe tbody tr th:only-of-type {\n",
       "        vertical-align: middle;\n",
       "    }\n",
       "\n",
       "    .dataframe tbody tr th {\n",
       "        vertical-align: top;\n",
       "    }\n",
       "\n",
       "    .dataframe thead th {\n",
       "        text-align: right;\n",
       "    }\n",
       "</style>\n",
       "<table border=\"1\" class=\"dataframe\">\n",
       "  <thead>\n",
       "    <tr style=\"text-align: right;\">\n",
       "      <th></th>\n",
       "      <th>0</th>\n",
       "      <th>1</th>\n",
       "      <th>2</th>\n",
       "      <th>3</th>\n",
       "      <th>4</th>\n",
       "      <th>5</th>\n",
       "      <th>6</th>\n",
       "    </tr>\n",
       "  </thead>\n",
       "  <tbody>\n",
       "    <tr>\n",
       "      <td>0</td>\n",
       "      <td>35</td>\n",
       "      <td>10</td>\n",
       "      <td>4</td>\n",
       "      <td>0.572555</td>\n",
       "      <td>0.853631</td>\n",
       "      <td>0.596894</td>\n",
       "      <td>0.702542</td>\n",
       "    </tr>\n",
       "    <tr>\n",
       "      <td>1</td>\n",
       "      <td>50</td>\n",
       "      <td>2</td>\n",
       "      <td>2</td>\n",
       "      <td>0.575827</td>\n",
       "      <td>0.856178</td>\n",
       "      <td>0.600538</td>\n",
       "      <td>0.705927</td>\n",
       "    </tr>\n",
       "    <tr>\n",
       "      <td>2</td>\n",
       "      <td>5</td>\n",
       "      <td>10</td>\n",
       "      <td>4</td>\n",
       "      <td>0.500962</td>\n",
       "      <td>0.874362</td>\n",
       "      <td>0.518337</td>\n",
       "      <td>0.650843</td>\n",
       "    </tr>\n",
       "    <tr>\n",
       "      <td>3</td>\n",
       "      <td>5</td>\n",
       "      <td>5</td>\n",
       "      <td>1</td>\n",
       "      <td>0.503279</td>\n",
       "      <td>0.875945</td>\n",
       "      <td>0.520740</td>\n",
       "      <td>0.653175</td>\n",
       "    </tr>\n",
       "    <tr>\n",
       "      <td>4</td>\n",
       "      <td>20</td>\n",
       "      <td>2</td>\n",
       "      <td>2</td>\n",
       "      <td>0.575338</td>\n",
       "      <td>0.854791</td>\n",
       "      <td>0.599324</td>\n",
       "      <td>0.704617</td>\n",
       "    </tr>\n",
       "    <tr>\n",
       "      <td>5</td>\n",
       "      <td>35</td>\n",
       "      <td>5</td>\n",
       "      <td>4</td>\n",
       "      <td>0.568839</td>\n",
       "      <td>0.850074</td>\n",
       "      <td>0.594209</td>\n",
       "      <td>0.699478</td>\n",
       "    </tr>\n",
       "    <tr>\n",
       "      <td>6</td>\n",
       "      <td>20</td>\n",
       "      <td>10</td>\n",
       "      <td>1</td>\n",
       "      <td>0.574212</td>\n",
       "      <td>0.860892</td>\n",
       "      <td>0.597398</td>\n",
       "      <td>0.705340</td>\n",
       "    </tr>\n",
       "    <tr>\n",
       "      <td>7</td>\n",
       "      <td>5</td>\n",
       "      <td>2</td>\n",
       "      <td>2</td>\n",
       "      <td>0.506497</td>\n",
       "      <td>0.875628</td>\n",
       "      <td>0.526117</td>\n",
       "      <td>0.657299</td>\n",
       "    </tr>\n",
       "    <tr>\n",
       "      <td>8</td>\n",
       "      <td>35</td>\n",
       "      <td>10</td>\n",
       "      <td>2</td>\n",
       "      <td>0.570701</td>\n",
       "      <td>0.847838</td>\n",
       "      <td>0.600161</td>\n",
       "      <td>0.702817</td>\n",
       "    </tr>\n",
       "    <tr>\n",
       "      <td>9</td>\n",
       "      <td>35</td>\n",
       "      <td>10</td>\n",
       "      <td>1</td>\n",
       "      <td>0.571496</td>\n",
       "      <td>0.851490</td>\n",
       "      <td>0.597364</td>\n",
       "      <td>0.702140</td>\n",
       "    </tr>\n",
       "    <tr>\n",
       "      <td>10</td>\n",
       "      <td>20</td>\n",
       "      <td>2</td>\n",
       "      <td>1</td>\n",
       "      <td>0.573973</td>\n",
       "      <td>0.862172</td>\n",
       "      <td>0.597078</td>\n",
       "      <td>0.705546</td>\n",
       "    </tr>\n",
       "    <tr>\n",
       "      <td>11</td>\n",
       "      <td>5</td>\n",
       "      <td>2</td>\n",
       "      <td>4</td>\n",
       "      <td>0.506273</td>\n",
       "      <td>0.880353</td>\n",
       "      <td>0.522352</td>\n",
       "      <td>0.655668</td>\n",
       "    </tr>\n",
       "    <tr>\n",
       "      <td>12</td>\n",
       "      <td>35</td>\n",
       "      <td>2</td>\n",
       "      <td>1</td>\n",
       "      <td>0.563198</td>\n",
       "      <td>0.871604</td>\n",
       "      <td>0.583258</td>\n",
       "      <td>0.698857</td>\n",
       "    </tr>\n",
       "    <tr>\n",
       "      <td>13</td>\n",
       "      <td>35</td>\n",
       "      <td>2</td>\n",
       "      <td>4</td>\n",
       "      <td>0.571506</td>\n",
       "      <td>0.862050</td>\n",
       "      <td>0.594286</td>\n",
       "      <td>0.703552</td>\n",
       "    </tr>\n",
       "    <tr>\n",
       "      <td>14</td>\n",
       "      <td>20</td>\n",
       "      <td>5</td>\n",
       "      <td>1</td>\n",
       "      <td>0.572540</td>\n",
       "      <td>0.851316</td>\n",
       "      <td>0.598805</td>\n",
       "      <td>0.703075</td>\n",
       "    </tr>\n",
       "    <tr>\n",
       "      <td>15</td>\n",
       "      <td>35</td>\n",
       "      <td>5</td>\n",
       "      <td>2</td>\n",
       "      <td>0.577942</td>\n",
       "      <td>0.858194</td>\n",
       "      <td>0.603009</td>\n",
       "      <td>0.708319</td>\n",
       "    </tr>\n",
       "    <tr>\n",
       "      <td>16</td>\n",
       "      <td>50</td>\n",
       "      <td>10</td>\n",
       "      <td>4</td>\n",
       "      <td>0.570860</td>\n",
       "      <td>0.854866</td>\n",
       "      <td>0.596894</td>\n",
       "      <td>0.702959</td>\n",
       "    </tr>\n",
       "    <tr>\n",
       "      <td>17</td>\n",
       "      <td>5</td>\n",
       "      <td>5</td>\n",
       "      <td>4</td>\n",
       "      <td>0.497551</td>\n",
       "      <td>0.880559</td>\n",
       "      <td>0.511989</td>\n",
       "      <td>0.647499</td>\n",
       "    </tr>\n",
       "    <tr>\n",
       "      <td>18</td>\n",
       "      <td>50</td>\n",
       "      <td>5</td>\n",
       "      <td>4</td>\n",
       "      <td>0.572113</td>\n",
       "      <td>0.852328</td>\n",
       "      <td>0.597439</td>\n",
       "      <td>0.702477</td>\n",
       "    </tr>\n",
       "    <tr>\n",
       "      <td>19</td>\n",
       "      <td>5</td>\n",
       "      <td>2</td>\n",
       "      <td>1</td>\n",
       "      <td>0.498898</td>\n",
       "      <td>0.881043</td>\n",
       "      <td>0.513855</td>\n",
       "      <td>0.649120</td>\n",
       "    </tr>\n",
       "  </tbody>\n",
       "</table>\n",
       "</div>"
      ],
      "text/plain": [
       "     0   1  2         3         4         5         6\n",
       "0   35  10  4  0.572555  0.853631  0.596894  0.702542\n",
       "1   50   2  2  0.575827  0.856178  0.600538  0.705927\n",
       "2    5  10  4  0.500962  0.874362  0.518337  0.650843\n",
       "3    5   5  1  0.503279  0.875945  0.520740  0.653175\n",
       "4   20   2  2  0.575338  0.854791  0.599324  0.704617\n",
       "5   35   5  4  0.568839  0.850074  0.594209  0.699478\n",
       "6   20  10  1  0.574212  0.860892  0.597398  0.705340\n",
       "7    5   2  2  0.506497  0.875628  0.526117  0.657299\n",
       "8   35  10  2  0.570701  0.847838  0.600161  0.702817\n",
       "9   35  10  1  0.571496  0.851490  0.597364  0.702140\n",
       "10  20   2  1  0.573973  0.862172  0.597078  0.705546\n",
       "11   5   2  4  0.506273  0.880353  0.522352  0.655668\n",
       "12  35   2  1  0.563198  0.871604  0.583258  0.698857\n",
       "13  35   2  4  0.571506  0.862050  0.594286  0.703552\n",
       "14  20   5  1  0.572540  0.851316  0.598805  0.703075\n",
       "15  35   5  2  0.577942  0.858194  0.603009  0.708319\n",
       "16  50  10  4  0.570860  0.854866  0.596894  0.702959\n",
       "17   5   5  4  0.497551  0.880559  0.511989  0.647499\n",
       "18  50   5  4  0.572113  0.852328  0.597439  0.702477\n",
       "19   5   2  1  0.498898  0.881043  0.513855  0.649120"
      ]
     },
     "execution_count": 47,
     "metadata": {},
     "output_type": "execute_result"
    }
   ],
   "source": [
    "rf_val_df = pd.DataFrame(rf_val_result)\n",
    "rf_val_df"
   ]
  },
  {
   "cell_type": "markdown",
   "metadata": {},
   "source": [
    "KNN"
   ]
  },
  {
   "cell_type": "code",
   "execution_count": null,
   "metadata": {
    "scrolled": true
   },
   "outputs": [],
   "source": [
    "k_s = list(range(1,11,2))\n",
    "knn_val_result = []\n",
    "for k in tqdm_notebook(k_s):\n",
    "    rf_clf = KNeighborsClassifier(n_neighbors=k)\n",
    "    acc, precision, recall, F1 = classifier_chain(rf_clf,x_val, y_val)\n",
    "    knn_val_result.append([k, acc, precision, recall, F1])"
   ]
  },
  {
   "cell_type": "code",
   "execution_count": null,
   "metadata": {},
   "outputs": [],
   "source": [
    "knn_val_df = pd.DataFrame(knn_val_result)\n",
    "knn_val_df"
   ]
  },
  {
   "cell_type": "markdown",
   "metadata": {},
   "source": [
    "Adaboost"
   ]
  },
  {
   "cell_type": "code",
   "execution_count": null,
   "metadata": {},
   "outputs": [],
   "source": [
    "n_estimators = [50, 100]\n",
    "learning_rates = [0.01,0.05,0.1,0.3,1]\n",
    "ada_val_result = []\n",
    "params_zips = list(itertools.product(n_estimators, learning_rates))\n",
    "# select 5 parameters\n",
    "selected_params = random.sample(params_zips,k=5)\n",
    "\n",
    "for (n_estimator, learning_rate) in tqdm_notebook(selected_params):\n",
    "    rf_clf = AdaBoostClassifier(n_estimators=n_estimator, learning_rate=learning_rate)\n",
    "    acc, precision, recall, F1 = classifier_chain(rf_clf,x_val, y_val)\n",
    "    ada_val_result.append([n_estimator, learning_rate, acc, precision, recall, F1])"
   ]
  },
  {
   "cell_type": "code",
   "execution_count": null,
   "metadata": {},
   "outputs": [],
   "source": [
    "ada_val_df = pd.DataFrame(ada_val_result)\n",
    "ada_val_df"
   ]
  },
  {
   "cell_type": "code",
   "execution_count": null,
   "metadata": {},
   "outputs": [],
   "source": []
  },
  {
   "cell_type": "code",
   "execution_count": null,
   "metadata": {},
   "outputs": [],
   "source": []
  }
 ],
 "metadata": {
  "kernelspec": {
   "display_name": "Python 3",
   "language": "python",
   "name": "python3"
  },
  "language_info": {
   "codemirror_mode": {
    "name": "ipython",
    "version": 3
   },
   "file_extension": ".py",
   "mimetype": "text/x-python",
   "name": "python",
   "nbconvert_exporter": "python",
   "pygments_lexer": "ipython3",
   "version": "3.7.1"
  }
 },
 "nbformat": 4,
 "nbformat_minor": 2
}
