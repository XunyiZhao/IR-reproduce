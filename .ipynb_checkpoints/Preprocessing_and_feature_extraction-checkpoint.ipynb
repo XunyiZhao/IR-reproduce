{
 "cells": [
  {
   "cell_type": "code",
   "execution_count": 166,
   "metadata": {},
   "outputs": [],
   "source": [
    "import numpy as np\n",
    "import matplotlib.pyplot as plt\n",
    "import pandas as pd\n",
    "import re\n",
    "import math\n",
    "from collections import Counter\n",
    "from tqdm import tqdm as tqdm\n",
    "from nltk.corpus import stopwords\n",
    "from nltk.stem import PorterStemmer \n",
    "from nltk.tokenize import word_tokenize\n",
    "from vaderSentiment.vaderSentiment import SentimentIntensityAnalyzer\n",
    "#from sklearn import datasets"
   ]
  },
  {
   "cell_type": "code",
   "execution_count": 36,
   "metadata": {},
   "outputs": [],
   "source": [
    "D_intent = pd.read_json('MSDialog-Intent.json')"
   ]
  },
  {
   "cell_type": "code",
   "execution_count": 143,
   "metadata": {},
   "outputs": [],
   "source": [
    "dialogs = []\n",
    "labels = []\n",
    "actors = []\n",
    "for d in D_intent.loc['utterances']:\n",
    "    dialogs.append([])\n",
    "    labels.append([])\n",
    "    actors.append([])\n",
    "    for utter in d:\n",
    "        dialogs[-1].append(utter['utterance'])\n",
    "        labels[-1].append(utter['tags'])\n",
    "        actors[-1].append(utter['actor_type'])"
   ]
  },
  {
   "cell_type": "code",
   "execution_count": 151,
   "metadata": {},
   "outputs": [],
   "source": [
    "from sklearn.model_selection import train_test_split\n",
    "dia_train, dia_val, labs_train, labs_val = train_test_split(dialogs, labels, test_size=0.1)\n",
    "dia_train, dia_test, labs_train, labs_test = train_test_split(dia_train, labs_train, test_size=0.1)"
   ]
  },
  {
   "cell_type": "code",
   "execution_count": 152,
   "metadata": {},
   "outputs": [],
   "source": [
    "def split(dia, labs):\n",
    "    utter = []\n",
    "    lab = []\n",
    "    for i in range(len(dia)):\n",
    "        utter += dia[i]\n",
    "        lab += labs[i]\n",
    "    return utter, lab"
   ]
  },
  {
   "cell_type": "code",
   "execution_count": 153,
   "metadata": {},
   "outputs": [],
   "source": [
    "utter, lab = split(dialogs, labels)\n",
    "utter_train, lab_train = split(dia_train, labs_train)\n",
    "utter_val, lab_val = split(dia_val, labs_val)\n",
    "utter_test, lab_test = split(dia_test, labs_test)"
   ]
  },
  {
   "cell_type": "code",
   "execution_count": null,
   "metadata": {},
   "outputs": [],
   "source": [
    "###"
   ]
  },
  {
   "cell_type": "code",
   "execution_count": 128,
   "metadata": {},
   "outputs": [
    {
     "name": "stderr",
     "output_type": "stream",
     "text": [
      "100%|██████████| 10020/10020 [49:03<00:00,  4.21it/s] \n"
     ]
    }
   ],
   "source": [
    "utter_without_sw = []\n",
    "for u in tqdm(utter):\n",
    "    text_tokens = word_tokenize(u)\n",
    "    text_without_sw = ' '.join([word for word in text_tokens if not word in stopwords.words()])\n",
    "    utter_without_sw.append(text_without_sw)"
   ]
  },
  {
   "cell_type": "code",
   "execution_count": 136,
   "metadata": {},
   "outputs": [],
   "source": [
    "df_utter_without_sw = pd.DataFrame(utter_without_sw)\n",
    "df_utter_without_sw.to_csv(r'utter_without_sw.csv', index=False)"
   ]
  },
  {
   "cell_type": "code",
   "execution_count": 139,
   "metadata": {},
   "outputs": [
    {
     "name": "stderr",
     "output_type": "stream",
     "text": [
      "100%|██████████| 10020/10020 [00:14<00:00, 711.22it/s]\n"
     ]
    }
   ],
   "source": [
    "utter_without_sw_stem = []\n",
    "ps = PorterStemmer() \n",
    "for u in tqdm(utter_without_sw):\n",
    "    text_tokens = word_tokenize(u)\n",
    "    text_without_sw_stem = ' '.join([ps.stem(w) for w in text_tokens])\n",
    "    utter_without_sw_stem.append(text_without_sw_stem)"
   ]
  },
  {
   "cell_type": "code",
   "execution_count": 155,
   "metadata": {},
   "outputs": [],
   "source": [
    "is_user = []\n",
    "for a in actors:\n",
    "    is_user += a\n",
    "for i, u in enumerate(is_user):\n",
    "    if u == 'User':\n",
    "        is_user[i] = True\n",
    "    else:\n",
    "        is_user[i] = False"
   ]
  },
  {
   "cell_type": "code",
   "execution_count": null,
   "metadata": {},
   "outputs": [],
   "source": [
    "###"
   ]
  },
  {
   "cell_type": "code",
   "execution_count": 41,
   "metadata": {},
   "outputs": [
    {
     "name": "stdout",
     "output_type": "stream",
     "text": [
      "train size: 8090\n",
      "val size: 1025\n",
      "test size: 905\n"
     ]
    }
   ],
   "source": [
    "print('train size:', len(utter_train))\n",
    "print('val size:', len(utter_val))\n",
    "print('test size:', len(utter_test))"
   ]
  },
  {
   "cell_type": "code",
   "execution_count": 42,
   "metadata": {},
   "outputs": [],
   "source": [
    "for i in range(len(lab)):\n",
    "    ls = lab[i].split()\n",
    "    if 'GG' in ls and len(ls)>1:\n",
    "        ls.remove('GG')\n",
    "        lab[i] = ' '.join(ls)\n",
    "    if 'JK' in ls and len(ls)>1:\n",
    "        ls.remove('JK')\n",
    "        lab[i] = ' '.join(ls)\n",
    "    if 'O' in ls and len(ls)>1:\n",
    "        ls.remove('O')\n",
    "        lab[i] = ' '.join(ls)\n",
    "    lab[i] = lab[i].strip()"
   ]
  },
  {
   "cell_type": "code",
   "execution_count": 43,
   "metadata": {},
   "outputs": [],
   "source": [
    "import collections\n",
    "lab_freq = dict(collections.Counter(lab))"
   ]
  },
  {
   "cell_type": "code",
   "execution_count": 44,
   "metadata": {},
   "outputs": [
    {
     "data": {
      "text/plain": [
       "[('PA', 2481),\n",
       " ('OQ', 1866),\n",
       " ('PF', 559),\n",
       " ('PA FD', 523),\n",
       " ('FD', 500),\n",
       " ('GG', 346),\n",
       " ('IR PA', 227),\n",
       " ('FD NF', 198),\n",
       " ('FD OQ', 169),\n",
       " ('IR', 165),\n",
       " ('RQ', 153),\n",
       " ('PA IR', 144),\n",
       " ('PF FD', 140),\n",
       " ('NF', 140),\n",
       " ('FQ FD', 137),\n",
       " ('CQ FD', 116),\n",
       " ('FQ', 101),\n",
       " ('PA PF', 98),\n",
       " ('FD RQ', 87),\n",
       " ('CQ IR', 81),\n",
       " ('JK', 75),\n",
       " ('FQ RQ', 71),\n",
       " ('FD PF', 67),\n",
       " ('CQ PA', 62),\n",
       " ('FQ IR', 58),\n",
       " ('FQ CQ', 55),\n",
       " ('IR FD', 54),\n",
       " ('CQ IR PA', 51),\n",
       " ('RQ OQ', 49),\n",
       " ('IR OQ', 48),\n",
       " ('NF OQ', 47),\n",
       " ('FQ FD NF', 44)]"
      ]
     },
     "execution_count": 44,
     "metadata": {},
     "output_type": "execute_result"
    }
   ],
   "source": [
    "sorted(lab_freq.items(), key = lambda kv:(kv[1], kv[0]), reverse=True)[:32]"
   ]
  },
  {
   "cell_type": "code",
   "execution_count": 45,
   "metadata": {},
   "outputs": [],
   "source": [
    "label_list = ['O', 'CQ']\n",
    "for l in sorted(lab_freq.items(), key = lambda kv:(kv[1], kv[0]), reverse=True)[:31]:\n",
    "    label_list.append(l[0])"
   ]
  },
  {
   "cell_type": "code",
   "execution_count": 47,
   "metadata": {},
   "outputs": [],
   "source": [
    "def preprocess(lab):\n",
    "    new_lab = np.zeros([len(lab), len(label_list)])\n",
    "    for i, l in enumerate(lab):\n",
    "        for j, l_ in enumerate(label_list):\n",
    "            if l_ in l:\n",
    "                new_lab[i,j] = 1\n",
    "    return new_lab"
   ]
  },
  {
   "cell_type": "code",
   "execution_count": 33,
   "metadata": {},
   "outputs": [],
   "source": [
    "lab = preprocess(lab)#labels of all data\n",
    "lab_train = preprocess(lab_train)#labels of train data\n",
    "lab_val = preprocess(lab_val)#labels of val data\n",
    "lab_test = preprocess(lab_test)#labels of test data"
   ]
  },
  {
   "cell_type": "code",
   "execution_count": 14,
   "metadata": {},
   "outputs": [
    {
     "data": {
      "text/plain": [
       "'how to get print bigger'"
      ]
     },
     "execution_count": 14,
     "metadata": {},
     "output_type": "execute_result"
    }
   ],
   "source": [
    "utter_train[0]"
   ]
  },
  {
   "cell_type": "code",
   "execution_count": 15,
   "metadata": {},
   "outputs": [
    {
     "data": {
      "text/plain": [
       "['how to get print bigger',\n",
       " 'Hi Michael Take a look at this. https://support.microsoft.com/en-us/kb/192391 After increasing font size press ctrl+P to print.',\n",
       " 'Hi   Assuming that you are using Internet Explorer and are referring to \"print\" on the screen (rather than on paper) then these keyboard shortcuts will adjust the zoom for the whole page:  CTRL + +        Zoom In  CTRL + -         Zoom Out  CTRL + 0        Set Zoom to 100%.  If you are using Internet Explorer you may click Page (on Command Bar) then Text size then select the text size you prefer.  The zoom controls above work with many other web browsers too.']"
      ]
     },
     "execution_count": 15,
     "metadata": {},
     "output_type": "execute_result"
    }
   ],
   "source": [
    "dia_train[0]"
   ]
  },
  {
   "cell_type": "code",
   "execution_count": 20,
   "metadata": {},
   "outputs": [
    {
     "data": {
      "text/plain": [
       "array([1., 0., 0., 1., 0., 0., 0., 0., 0., 0., 0., 0., 0., 0., 0., 0., 0.,\n",
       "       0., 0., 0., 0., 0., 0., 0., 0., 0., 0., 0., 0., 0., 0., 0., 0.])"
      ]
     },
     "execution_count": 20,
     "metadata": {},
     "output_type": "execute_result"
    }
   ],
   "source": [
    "lab_train[0]"
   ]
  },
  {
   "cell_type": "code",
   "execution_count": 21,
   "metadata": {
    "scrolled": false
   },
   "outputs": [
    {
     "data": {
      "text/plain": [
       "['O',\n",
       " 'CQ',\n",
       " 'PA',\n",
       " 'OQ',\n",
       " 'PF',\n",
       " 'PA FD',\n",
       " 'FD',\n",
       " 'GG',\n",
       " 'IR PA',\n",
       " 'FD NF',\n",
       " 'FD OQ',\n",
       " 'IR',\n",
       " 'RQ',\n",
       " 'PA IR',\n",
       " 'PF FD',\n",
       " 'NF',\n",
       " 'FQ FD',\n",
       " 'CQ FD',\n",
       " 'FQ',\n",
       " 'PA PF',\n",
       " 'FD RQ',\n",
       " 'CQ IR',\n",
       " 'JK',\n",
       " 'FQ RQ',\n",
       " 'FD PF',\n",
       " 'CQ PA',\n",
       " 'FQ IR',\n",
       " 'FQ CQ',\n",
       " 'IR FD',\n",
       " 'CQ IR PA',\n",
       " 'RQ OQ',\n",
       " 'IR OQ',\n",
       " 'NF OQ']"
      ]
     },
     "execution_count": 21,
     "metadata": {},
     "output_type": "execute_result"
    }
   ],
   "source": [
    "label_list"
   ]
  },
  {
   "cell_type": "code",
   "execution_count": 51,
   "metadata": {},
   "outputs": [],
   "source": [
    "def text_to_vector(text):\n",
    "    word = re.compile(r'\\w+')\n",
    "    words = word.findall(text)\n",
    "    return Counter(words)"
   ]
  },
  {
   "cell_type": "code",
   "execution_count": 52,
   "metadata": {},
   "outputs": [],
   "source": [
    "def get_cosine(vec1, vec2):\n",
    "    intersection = set(vec1.keys()) & set(vec2.keys())\n",
    "    numerator = sum([vec1[x] * vec2[x] for x in intersection])\n",
    "\n",
    "    sum1 = sum([vec1[x]**2 for x in vec1.keys()])\n",
    "    sum2 = sum([vec2[x]**2 for x in vec2.keys()])\n",
    "    denominator = math.sqrt(sum1) * math.sqrt(sum2)\n",
    "\n",
    "    if not denominator:\n",
    "        return 0.0\n",
    "    else:\n",
    "        return float(numerator) / denominator"
   ]
  },
  {
   "cell_type": "code",
   "execution_count": null,
   "metadata": {},
   "outputs": [],
   "source": []
  },
  {
   "cell_type": "markdown",
   "metadata": {},
   "source": [
    "# Feaure function"
   ]
  },
  {
   "cell_type": "code",
   "execution_count": null,
   "metadata": {},
   "outputs": [],
   "source": [
    "def get_features(utter):"
   ]
  },
  {
   "cell_type": "markdown",
   "metadata": {},
   "source": [
    "# Content features"
   ]
  },
  {
   "cell_type": "code",
   "execution_count": 171,
   "metadata": {
    "scrolled": true
   },
   "outputs": [
    {
     "data": {
      "text/html": [
       "<div>\n",
       "<style scoped>\n",
       "    .dataframe tbody tr th:only-of-type {\n",
       "        vertical-align: middle;\n",
       "    }\n",
       "\n",
       "    .dataframe tbody tr th {\n",
       "        vertical-align: top;\n",
       "    }\n",
       "\n",
       "    .dataframe thead th {\n",
       "        text-align: right;\n",
       "    }\n",
       "</style>\n",
       "<table border=\"1\" class=\"dataframe\">\n",
       "  <thead>\n",
       "    <tr style=\"text-align: right;\">\n",
       "      <th></th>\n",
       "      <th>utterance</th>\n",
       "      <th>utterance_pos</th>\n",
       "      <th>consine_similarity</th>\n",
       "    </tr>\n",
       "  </thead>\n",
       "  <tbody>\n",
       "    <tr>\n",
       "      <th>0</th>\n",
       "      <td>hi joydeep sir getting error on event viewer ,...</td>\n",
       "      <td>1</td>\n",
       "      <td>1.000000</td>\n",
       "    </tr>\n",
       "    <tr>\n",
       "      <th>1</th>\n",
       "      <td>Windows Content Delivery Manager would relate ...</td>\n",
       "      <td>2</td>\n",
       "      <td>0.069993</td>\n",
       "    </tr>\n",
       "    <tr>\n",
       "      <th>2</th>\n",
       "      <td>hi joydeep sir my issues resolved.thnks a lot.</td>\n",
       "      <td>3</td>\n",
       "      <td>0.147442</td>\n",
       "    </tr>\n",
       "    <tr>\n",
       "      <th>3</th>\n",
       "      <td>I had a couple of problems and contacted Micro...</td>\n",
       "      <td>1</td>\n",
       "      <td>1.000000</td>\n",
       "    </tr>\n",
       "    <tr>\n",
       "      <th>4</th>\n",
       "      <td>Thank you for posting in Microsoft Community. ...</td>\n",
       "      <td>2</td>\n",
       "      <td>0.364363</td>\n",
       "    </tr>\n",
       "  </tbody>\n",
       "</table>\n",
       "</div>"
      ],
      "text/plain": [
       "                                           utterance  utterance_pos  \\\n",
       "0  hi joydeep sir getting error on event viewer ,...              1   \n",
       "1  Windows Content Delivery Manager would relate ...              2   \n",
       "2     hi joydeep sir my issues resolved.thnks a lot.              3   \n",
       "3  I had a couple of problems and contacted Micro...              1   \n",
       "4  Thank you for posting in Microsoft Community. ...              2   \n",
       "\n",
       "   consine_similarity  \n",
       "0            1.000000  \n",
       "1            0.069993  \n",
       "2            0.147442  \n",
       "3            1.000000  \n",
       "4            0.364363  "
      ]
     },
     "execution_count": 171,
     "metadata": {},
     "output_type": "execute_result"
    }
   ],
   "source": [
    "# Initial Utterance Similarity\n",
    "initial_utter_similarity = []\n",
    "pos = []\n",
    "count = 1\n",
    "\n",
    "for i, dialog in enumerate(dialogs):\n",
    "    vec1 = text_to_vector(dialog[0])\n",
    "    count = 1\n",
    "    for u in dialog:\n",
    "        pos.append(count)\n",
    "        count += 1\n",
    "        vec2 = text_to_vector(u)\n",
    "        initial_utter_similarity.append(get_cosine(vec1, vec2))\n",
    "        \n",
    "data_1 = {'utterance': utter, 'utterance_pos': pos, 'consine_similarity': initial_utter_similarity}\n",
    "df_1 = pd.DataFrame(data_1)\n",
    "df_1.to_csv(r'CONTENT_initial_utter_similarity.csv', index=False)\n",
    "df_1.head()"
   ]
  },
  {
   "cell_type": "code",
   "execution_count": 172,
   "metadata": {},
   "outputs": [
    {
     "data": {
      "text/html": [
       "<div>\n",
       "<style scoped>\n",
       "    .dataframe tbody tr th:only-of-type {\n",
       "        vertical-align: middle;\n",
       "    }\n",
       "\n",
       "    .dataframe tbody tr th {\n",
       "        vertical-align: top;\n",
       "    }\n",
       "\n",
       "    .dataframe thead th {\n",
       "        text-align: right;\n",
       "    }\n",
       "</style>\n",
       "<table border=\"1\" class=\"dataframe\">\n",
       "  <thead>\n",
       "    <tr style=\"text-align: right;\">\n",
       "      <th></th>\n",
       "      <th>utterance</th>\n",
       "      <th>consine_similarity</th>\n",
       "    </tr>\n",
       "  </thead>\n",
       "  <tbody>\n",
       "    <tr>\n",
       "      <th>0</th>\n",
       "      <td>hi joydeep sir getting error on event viewer ,...</td>\n",
       "      <td>0.655034</td>\n",
       "    </tr>\n",
       "    <tr>\n",
       "      <th>1</th>\n",
       "      <td>Windows Content Delivery Manager would relate ...</td>\n",
       "      <td>0.750313</td>\n",
       "    </tr>\n",
       "    <tr>\n",
       "      <th>2</th>\n",
       "      <td>hi joydeep sir my issues resolved.thnks a lot.</td>\n",
       "      <td>0.313264</td>\n",
       "    </tr>\n",
       "    <tr>\n",
       "      <th>3</th>\n",
       "      <td>I had a couple of problems and contacted Micro...</td>\n",
       "      <td>0.555694</td>\n",
       "    </tr>\n",
       "    <tr>\n",
       "      <th>4</th>\n",
       "      <td>Thank you for posting in Microsoft Community. ...</td>\n",
       "      <td>0.946031</td>\n",
       "    </tr>\n",
       "  </tbody>\n",
       "</table>\n",
       "</div>"
      ],
      "text/plain": [
       "                                           utterance  consine_similarity\n",
       "0  hi joydeep sir getting error on event viewer ,...            0.655034\n",
       "1  Windows Content Delivery Manager would relate ...            0.750313\n",
       "2     hi joydeep sir my issues resolved.thnks a lot.            0.313264\n",
       "3  I had a couple of problems and contacted Micro...            0.555694\n",
       "4  Thank you for posting in Microsoft Community. ...            0.946031"
      ]
     },
     "execution_count": 172,
     "metadata": {},
     "output_type": "execute_result"
    }
   ],
   "source": [
    "# Dialog Similarity\n",
    "dialog_similarity = []\n",
    "\n",
    "for i,dialog in enumerate(dialogs):\n",
    "    vec1 = text_to_vector(''.join(dialog))\n",
    "    for u in dialog:\n",
    "        vec2 = text_to_vector(u)\n",
    "        dialog_similarity.append(get_cosine(vec1, vec2))\n",
    "        \n",
    "data_2 = {'utterance': utter, 'consine_similarity': dialog_similarity}\n",
    "df_2 = pd.DataFrame(data_2)\n",
    "df_2.to_csv(r'CONTENT_dialog_similarity.csv', index=False)\n",
    "df_2.head()"
   ]
  },
  {
   "cell_type": "code",
   "execution_count": 173,
   "metadata": {},
   "outputs": [
    {
     "data": {
      "text/html": [
       "<div>\n",
       "<style scoped>\n",
       "    .dataframe tbody tr th:only-of-type {\n",
       "        vertical-align: middle;\n",
       "    }\n",
       "\n",
       "    .dataframe tbody tr th {\n",
       "        vertical-align: top;\n",
       "    }\n",
       "\n",
       "    .dataframe thead th {\n",
       "        text-align: right;\n",
       "    }\n",
       "</style>\n",
       "<table border=\"1\" class=\"dataframe\">\n",
       "  <thead>\n",
       "    <tr style=\"text-align: right;\">\n",
       "      <th></th>\n",
       "      <th>utterance</th>\n",
       "      <th>question_mark</th>\n",
       "    </tr>\n",
       "  </thead>\n",
       "  <tbody>\n",
       "    <tr>\n",
       "      <th>0</th>\n",
       "      <td>hi joydeep sir getting error on event viewer ,...</td>\n",
       "      <td>False</td>\n",
       "    </tr>\n",
       "    <tr>\n",
       "      <th>1</th>\n",
       "      <td>Windows Content Delivery Manager would relate ...</td>\n",
       "      <td>False</td>\n",
       "    </tr>\n",
       "    <tr>\n",
       "      <th>2</th>\n",
       "      <td>hi joydeep sir my issues resolved.thnks a lot.</td>\n",
       "      <td>False</td>\n",
       "    </tr>\n",
       "    <tr>\n",
       "      <th>3</th>\n",
       "      <td>I had a couple of problems and contacted Micro...</td>\n",
       "      <td>False</td>\n",
       "    </tr>\n",
       "    <tr>\n",
       "      <th>4</th>\n",
       "      <td>Thank you for posting in Microsoft Community. ...</td>\n",
       "      <td>False</td>\n",
       "    </tr>\n",
       "  </tbody>\n",
       "</table>\n",
       "</div>"
      ],
      "text/plain": [
       "                                           utterance  question_mark\n",
       "0  hi joydeep sir getting error on event viewer ,...          False\n",
       "1  Windows Content Delivery Manager would relate ...          False\n",
       "2     hi joydeep sir my issues resolved.thnks a lot.          False\n",
       "3  I had a couple of problems and contacted Micro...          False\n",
       "4  Thank you for posting in Microsoft Community. ...          False"
      ]
     },
     "execution_count": 173,
     "metadata": {},
     "output_type": "execute_result"
    }
   ],
   "source": [
    "# Question Mark\n",
    "question_mark = []\n",
    "\n",
    "for i in range(len(utter)):\n",
    "    has_question_mark = '?' in utter[i]\n",
    "    question_mark.append(has_question_mark)\n",
    "\n",
    "data_3 = {'utterance': utter, 'question_mark': question_mark}\n",
    "df_3 = pd.DataFrame(data_3)\n",
    "df_3.to_csv(r'CONTENT_question_mark.csv', index=False)\n",
    "df_3.head()"
   ]
  },
  {
   "cell_type": "code",
   "execution_count": 174,
   "metadata": {},
   "outputs": [
    {
     "data": {
      "text/html": [
       "<div>\n",
       "<style scoped>\n",
       "    .dataframe tbody tr th:only-of-type {\n",
       "        vertical-align: middle;\n",
       "    }\n",
       "\n",
       "    .dataframe tbody tr th {\n",
       "        vertical-align: top;\n",
       "    }\n",
       "\n",
       "    .dataframe thead th {\n",
       "        text-align: right;\n",
       "    }\n",
       "</style>\n",
       "<table border=\"1\" class=\"dataframe\">\n",
       "  <thead>\n",
       "    <tr style=\"text-align: right;\">\n",
       "      <th></th>\n",
       "      <th>utterance</th>\n",
       "      <th>duplicate</th>\n",
       "    </tr>\n",
       "  </thead>\n",
       "  <tbody>\n",
       "    <tr>\n",
       "      <th>0</th>\n",
       "      <td>hi joydeep sir getting error on event viewer ,...</td>\n",
       "      <td>False</td>\n",
       "    </tr>\n",
       "    <tr>\n",
       "      <th>1</th>\n",
       "      <td>Windows Content Delivery Manager would relate ...</td>\n",
       "      <td>False</td>\n",
       "    </tr>\n",
       "    <tr>\n",
       "      <th>2</th>\n",
       "      <td>hi joydeep sir my issues resolved.thnks a lot.</td>\n",
       "      <td>False</td>\n",
       "    </tr>\n",
       "    <tr>\n",
       "      <th>3</th>\n",
       "      <td>I had a couple of problems and contacted Micro...</td>\n",
       "      <td>False</td>\n",
       "    </tr>\n",
       "    <tr>\n",
       "      <th>4</th>\n",
       "      <td>Thank you for posting in Microsoft Community. ...</td>\n",
       "      <td>False</td>\n",
       "    </tr>\n",
       "  </tbody>\n",
       "</table>\n",
       "</div>"
      ],
      "text/plain": [
       "                                           utterance  duplicate\n",
       "0  hi joydeep sir getting error on event viewer ,...      False\n",
       "1  Windows Content Delivery Manager would relate ...      False\n",
       "2     hi joydeep sir my issues resolved.thnks a lot.      False\n",
       "3  I had a couple of problems and contacted Micro...      False\n",
       "4  Thank you for posting in Microsoft Community. ...      False"
      ]
     },
     "execution_count": 174,
     "metadata": {},
     "output_type": "execute_result"
    }
   ],
   "source": [
    "# Duplicate\n",
    "duplicate = []\n",
    "\n",
    "for i in range(len(utter)):\n",
    "    has_duplicate = 'same' in utter[i].lower() or 'similar' in utter[i].lower()\n",
    "    duplicate.append(has_duplicate)\n",
    "    \n",
    "data_4 = {'utterance': utter, 'duplicate': duplicate}\n",
    "df_4 = pd.DataFrame(data_4)\n",
    "df_4.to_csv(r'CONTENT_duplicate.csv', index=False)\n",
    "df_4.head()"
   ]
  },
  {
   "cell_type": "code",
   "execution_count": 175,
   "metadata": {},
   "outputs": [
    {
     "data": {
      "text/html": [
       "<div>\n",
       "<style scoped>\n",
       "    .dataframe tbody tr th:only-of-type {\n",
       "        vertical-align: middle;\n",
       "    }\n",
       "\n",
       "    .dataframe tbody tr th {\n",
       "        vertical-align: top;\n",
       "    }\n",
       "\n",
       "    .dataframe thead th {\n",
       "        text-align: right;\n",
       "    }\n",
       "</style>\n",
       "<table border=\"1\" class=\"dataframe\">\n",
       "  <thead>\n",
       "    <tr style=\"text-align: right;\">\n",
       "      <th></th>\n",
       "      <th>utterance</th>\n",
       "      <th>5W1H</th>\n",
       "    </tr>\n",
       "  </thead>\n",
       "  <tbody>\n",
       "    <tr>\n",
       "      <th>0</th>\n",
       "      <td>hi joydeep sir getting error on event viewer ,...</td>\n",
       "      <td>[0, 0, 0, 0, 0, 0]</td>\n",
       "    </tr>\n",
       "    <tr>\n",
       "      <th>1</th>\n",
       "      <td>Windows Content Delivery Manager would relate ...</td>\n",
       "      <td>[0, 0, 0, 0, 0, 0]</td>\n",
       "    </tr>\n",
       "    <tr>\n",
       "      <th>2</th>\n",
       "      <td>hi joydeep sir my issues resolved.thnks a lot.</td>\n",
       "      <td>[0, 0, 0, 0, 0, 0]</td>\n",
       "    </tr>\n",
       "    <tr>\n",
       "      <th>3</th>\n",
       "      <td>I had a couple of problems and contacted Micro...</td>\n",
       "      <td>[0, 1, 1, 0, 1, 0]</td>\n",
       "    </tr>\n",
       "    <tr>\n",
       "      <th>4</th>\n",
       "      <td>Thank you for posting in Microsoft Community. ...</td>\n",
       "      <td>[0, 1, 0, 0, 0, 0]</td>\n",
       "    </tr>\n",
       "  </tbody>\n",
       "</table>\n",
       "</div>"
      ],
      "text/plain": [
       "                                           utterance                5W1H\n",
       "0  hi joydeep sir getting error on event viewer ,...  [0, 0, 0, 0, 0, 0]\n",
       "1  Windows Content Delivery Manager would relate ...  [0, 0, 0, 0, 0, 0]\n",
       "2     hi joydeep sir my issues resolved.thnks a lot.  [0, 0, 0, 0, 0, 0]\n",
       "3  I had a couple of problems and contacted Micro...  [0, 1, 1, 0, 1, 0]\n",
       "4  Thank you for posting in Microsoft Community. ...  [0, 1, 0, 0, 0, 0]"
      ]
     },
     "execution_count": 175,
     "metadata": {},
     "output_type": "execute_result"
    }
   ],
   "source": [
    "# 5W1H\n",
    "w_h = []\n",
    "\n",
    "for i in range(len(utter)):\n",
    "    one_hot = [0, 0, 0, 0, 0, 0]\n",
    "    if 'what' in utter[i]:\n",
    "        one_hot[0] = 1\n",
    "    if 'where' in utter[i]:\n",
    "        one_hot[1] = 1\n",
    "    if 'when' in utter[i]:\n",
    "        one_hot[2] = 1\n",
    "    if 'why' in utter[i]:\n",
    "        one_hot[3] = 1\n",
    "    if 'who' in utter[i]:\n",
    "        one_hot[4] = 1\n",
    "    if 'how' in utter[i]:\n",
    "        one_hot[5] = 1\n",
    "    w_h.append(one_hot)\n",
    "    \n",
    "data_5 = {'utterance': utter, '5W1H': w_h}\n",
    "df_5 = pd.DataFrame(data_5)\n",
    "df_5.to_csv(r'CONTENT_5W_1H.csv', index=False)\n",
    "df_5.head()"
   ]
  },
  {
   "cell_type": "markdown",
   "metadata": {},
   "source": [
    "# Structual features"
   ]
  },
  {
   "cell_type": "code",
   "execution_count": 176,
   "metadata": {},
   "outputs": [
    {
     "data": {
      "text/html": [
       "<div>\n",
       "<style scoped>\n",
       "    .dataframe tbody tr th:only-of-type {\n",
       "        vertical-align: middle;\n",
       "    }\n",
       "\n",
       "    .dataframe tbody tr th {\n",
       "        vertical-align: top;\n",
       "    }\n",
       "\n",
       "    .dataframe thead th {\n",
       "        text-align: right;\n",
       "    }\n",
       "</style>\n",
       "<table border=\"1\" class=\"dataframe\">\n",
       "  <thead>\n",
       "    <tr style=\"text-align: right;\">\n",
       "      <th></th>\n",
       "      <th>utterance</th>\n",
       "      <th>absolute_pos</th>\n",
       "    </tr>\n",
       "  </thead>\n",
       "  <tbody>\n",
       "    <tr>\n",
       "      <th>0</th>\n",
       "      <td>hi joydeep sir getting error on event viewer ,...</td>\n",
       "      <td>1</td>\n",
       "    </tr>\n",
       "    <tr>\n",
       "      <th>1</th>\n",
       "      <td>Windows Content Delivery Manager would relate ...</td>\n",
       "      <td>2</td>\n",
       "    </tr>\n",
       "    <tr>\n",
       "      <th>2</th>\n",
       "      <td>hi joydeep sir my issues resolved.thnks a lot.</td>\n",
       "      <td>3</td>\n",
       "    </tr>\n",
       "    <tr>\n",
       "      <th>3</th>\n",
       "      <td>I had a couple of problems and contacted Micro...</td>\n",
       "      <td>1</td>\n",
       "    </tr>\n",
       "    <tr>\n",
       "      <th>4</th>\n",
       "      <td>Thank you for posting in Microsoft Community. ...</td>\n",
       "      <td>2</td>\n",
       "    </tr>\n",
       "  </tbody>\n",
       "</table>\n",
       "</div>"
      ],
      "text/plain": [
       "                                           utterance  absolute_pos\n",
       "0  hi joydeep sir getting error on event viewer ,...             1\n",
       "1  Windows Content Delivery Manager would relate ...             2\n",
       "2     hi joydeep sir my issues resolved.thnks a lot.             3\n",
       "3  I had a couple of problems and contacted Micro...             1\n",
       "4  Thank you for posting in Microsoft Community. ...             2"
      ]
     },
     "execution_count": 176,
     "metadata": {},
     "output_type": "execute_result"
    }
   ],
   "source": [
    "# Absolute Position\n",
    "abs_pos = []\n",
    "count = 1\n",
    "\n",
    "for i, dialog in enumerate(dialogs):\n",
    "    count = 1\n",
    "    for u in dialog:\n",
    "        abs_pos.append(count)\n",
    "        count += 1\n",
    "        \n",
    "data_6 = {'utterance': utter, 'absolute_pos': abs_pos}\n",
    "df_6 = pd.DataFrame(data_6)\n",
    "df_6.to_csv(r'STRUC_absolute_position.csv', index=False)\n",
    "df_6.head()"
   ]
  },
  {
   "cell_type": "code",
   "execution_count": 177,
   "metadata": {},
   "outputs": [
    {
     "data": {
      "text/html": [
       "<div>\n",
       "<style scoped>\n",
       "    .dataframe tbody tr th:only-of-type {\n",
       "        vertical-align: middle;\n",
       "    }\n",
       "\n",
       "    .dataframe tbody tr th {\n",
       "        vertical-align: top;\n",
       "    }\n",
       "\n",
       "    .dataframe thead th {\n",
       "        text-align: right;\n",
       "    }\n",
       "</style>\n",
       "<table border=\"1\" class=\"dataframe\">\n",
       "  <thead>\n",
       "    <tr style=\"text-align: right;\">\n",
       "      <th></th>\n",
       "      <th>utterance</th>\n",
       "      <th>norm_pos</th>\n",
       "    </tr>\n",
       "  </thead>\n",
       "  <tbody>\n",
       "    <tr>\n",
       "      <th>0</th>\n",
       "      <td>hi joydeep sir getting error on event viewer ,...</td>\n",
       "      <td>0.333333</td>\n",
       "    </tr>\n",
       "    <tr>\n",
       "      <th>1</th>\n",
       "      <td>Windows Content Delivery Manager would relate ...</td>\n",
       "      <td>0.666667</td>\n",
       "    </tr>\n",
       "    <tr>\n",
       "      <th>2</th>\n",
       "      <td>hi joydeep sir my issues resolved.thnks a lot.</td>\n",
       "      <td>1.000000</td>\n",
       "    </tr>\n",
       "    <tr>\n",
       "      <th>3</th>\n",
       "      <td>I had a couple of problems and contacted Micro...</td>\n",
       "      <td>0.200000</td>\n",
       "    </tr>\n",
       "    <tr>\n",
       "      <th>4</th>\n",
       "      <td>Thank you for posting in Microsoft Community. ...</td>\n",
       "      <td>0.400000</td>\n",
       "    </tr>\n",
       "  </tbody>\n",
       "</table>\n",
       "</div>"
      ],
      "text/plain": [
       "                                           utterance  norm_pos\n",
       "0  hi joydeep sir getting error on event viewer ,...  0.333333\n",
       "1  Windows Content Delivery Manager would relate ...  0.666667\n",
       "2     hi joydeep sir my issues resolved.thnks a lot.  1.000000\n",
       "3  I had a couple of problems and contacted Micro...  0.200000\n",
       "4  Thank you for posting in Microsoft Community. ...  0.400000"
      ]
     },
     "execution_count": 177,
     "metadata": {},
     "output_type": "execute_result"
    }
   ],
   "source": [
    "# Normalized Position\n",
    "norm_pos = []\n",
    "count = 1\n",
    "\n",
    "for i, dialog in enumerate(dialogs):\n",
    "    count = 1\n",
    "    for u in dialog:\n",
    "        norm_pos.append(count/len(dialog))\n",
    "        count += 1\n",
    "        \n",
    "data_7 = {'utterance': utter, 'norm_pos': norm_pos}\n",
    "df_7 = pd.DataFrame(data_7)\n",
    "df_7.to_csv(r'STRUC_normalized_position.csv', index=False)\n",
    "df_7.head()"
   ]
  },
  {
   "cell_type": "code",
   "execution_count": 178,
   "metadata": {},
   "outputs": [
    {
     "data": {
      "text/html": [
       "<div>\n",
       "<style scoped>\n",
       "    .dataframe tbody tr th:only-of-type {\n",
       "        vertical-align: middle;\n",
       "    }\n",
       "\n",
       "    .dataframe tbody tr th {\n",
       "        vertical-align: top;\n",
       "    }\n",
       "\n",
       "    .dataframe thead th {\n",
       "        text-align: right;\n",
       "    }\n",
       "</style>\n",
       "<table border=\"1\" class=\"dataframe\">\n",
       "  <thead>\n",
       "    <tr style=\"text-align: right;\">\n",
       "      <th></th>\n",
       "      <th>utterance</th>\n",
       "      <th>utter_len</th>\n",
       "    </tr>\n",
       "  </thead>\n",
       "  <tbody>\n",
       "    <tr>\n",
       "      <th>0</th>\n",
       "      <td>hi joydeep sir getting error on event viewer ,...</td>\n",
       "      <td>136</td>\n",
       "    </tr>\n",
       "    <tr>\n",
       "      <th>1</th>\n",
       "      <td>Windows Content Delivery Manager would relate ...</td>\n",
       "      <td>392</td>\n",
       "    </tr>\n",
       "    <tr>\n",
       "      <th>2</th>\n",
       "      <td>hi joydeep sir my issues resolved.thnks a lot.</td>\n",
       "      <td>40</td>\n",
       "    </tr>\n",
       "    <tr>\n",
       "      <th>3</th>\n",
       "      <td>I had a couple of problems and contacted Micro...</td>\n",
       "      <td>375</td>\n",
       "    </tr>\n",
       "    <tr>\n",
       "      <th>4</th>\n",
       "      <td>Thank you for posting in Microsoft Community. ...</td>\n",
       "      <td>1563</td>\n",
       "    </tr>\n",
       "  </tbody>\n",
       "</table>\n",
       "</div>"
      ],
      "text/plain": [
       "                                           utterance  utter_len\n",
       "0  hi joydeep sir getting error on event viewer ,...        136\n",
       "1  Windows Content Delivery Manager would relate ...        392\n",
       "2     hi joydeep sir my issues resolved.thnks a lot.         40\n",
       "3  I had a couple of problems and contacted Micro...        375\n",
       "4  Thank you for posting in Microsoft Community. ...       1563"
      ]
     },
     "execution_count": 178,
     "metadata": {},
     "output_type": "execute_result"
    }
   ],
   "source": [
    "# Utterance Length\n",
    "utter_len = []\n",
    "\n",
    "for u in utter_without_sw:\n",
    "    u_without_punctuation = re.sub(r'[^\\w\\s]','',u)\n",
    "    utter_len.append(len(u_without_punctuation))\n",
    "\n",
    "data_8 = {'utterance': utter, 'utter_len': utter_len}\n",
    "df_8 = pd.DataFrame(data_8)\n",
    "df_8.to_csv(r'STRUC_utterance_length.csv', index=False)\n",
    "df_8.head()"
   ]
  },
  {
   "cell_type": "code",
   "execution_count": 179,
   "metadata": {},
   "outputs": [
    {
     "data": {
      "text/html": [
       "<div>\n",
       "<style scoped>\n",
       "    .dataframe tbody tr th:only-of-type {\n",
       "        vertical-align: middle;\n",
       "    }\n",
       "\n",
       "    .dataframe tbody tr th {\n",
       "        vertical-align: top;\n",
       "    }\n",
       "\n",
       "    .dataframe thead th {\n",
       "        text-align: right;\n",
       "    }\n",
       "</style>\n",
       "<table border=\"1\" class=\"dataframe\">\n",
       "  <thead>\n",
       "    <tr style=\"text-align: right;\">\n",
       "      <th></th>\n",
       "      <th>utterance</th>\n",
       "      <th>utter_len_unique</th>\n",
       "    </tr>\n",
       "  </thead>\n",
       "  <tbody>\n",
       "    <tr>\n",
       "      <th>0</th>\n",
       "      <td>hi joydeep sir getting error on event viewer ,...</td>\n",
       "      <td>23</td>\n",
       "    </tr>\n",
       "    <tr>\n",
       "      <th>1</th>\n",
       "      <td>Windows Content Delivery Manager would relate ...</td>\n",
       "      <td>41</td>\n",
       "    </tr>\n",
       "    <tr>\n",
       "      <th>2</th>\n",
       "      <td>hi joydeep sir my issues resolved.thnks a lot.</td>\n",
       "      <td>6</td>\n",
       "    </tr>\n",
       "    <tr>\n",
       "      <th>3</th>\n",
       "      <td>I had a couple of problems and contacted Micro...</td>\n",
       "      <td>43</td>\n",
       "    </tr>\n",
       "    <tr>\n",
       "      <th>4</th>\n",
       "      <td>Thank you for posting in Microsoft Community. ...</td>\n",
       "      <td>132</td>\n",
       "    </tr>\n",
       "  </tbody>\n",
       "</table>\n",
       "</div>"
      ],
      "text/plain": [
       "                                           utterance  utter_len_unique\n",
       "0  hi joydeep sir getting error on event viewer ,...                23\n",
       "1  Windows Content Delivery Manager would relate ...                41\n",
       "2     hi joydeep sir my issues resolved.thnks a lot.                 6\n",
       "3  I had a couple of problems and contacted Micro...                43\n",
       "4  Thank you for posting in Microsoft Community. ...               132"
      ]
     },
     "execution_count": 179,
     "metadata": {},
     "output_type": "execute_result"
    }
   ],
   "source": [
    "# Utterance Length Unique\n",
    "utter_len_unique = []\n",
    "\n",
    "for u in utter_without_sw:\n",
    "    u_without_punctuation = re.sub(r'[^\\w\\s]','',u)\n",
    "    utter_len_unique.append(len(set(word_tokenize(u_without_punctuation.lower()))))\n",
    "\n",
    "data_9 = {'utterance': utter, 'utter_len_unique': utter_len_unique}\n",
    "df_9 = pd.DataFrame(data_9)\n",
    "df_9.to_csv(r'STRUC_utterance_length_unique.csv', index=False)\n",
    "df_9.head()"
   ]
  },
  {
   "cell_type": "code",
   "execution_count": 180,
   "metadata": {},
   "outputs": [
    {
     "data": {
      "text/html": [
       "<div>\n",
       "<style scoped>\n",
       "    .dataframe tbody tr th:only-of-type {\n",
       "        vertical-align: middle;\n",
       "    }\n",
       "\n",
       "    .dataframe tbody tr th {\n",
       "        vertical-align: top;\n",
       "    }\n",
       "\n",
       "    .dataframe thead th {\n",
       "        text-align: right;\n",
       "    }\n",
       "</style>\n",
       "<table border=\"1\" class=\"dataframe\">\n",
       "  <thead>\n",
       "    <tr style=\"text-align: right;\">\n",
       "      <th></th>\n",
       "      <th>utterance</th>\n",
       "      <th>utter_len_unique</th>\n",
       "    </tr>\n",
       "  </thead>\n",
       "  <tbody>\n",
       "    <tr>\n",
       "      <th>0</th>\n",
       "      <td>hi joydeep sir getting error on event viewer ,...</td>\n",
       "      <td>23</td>\n",
       "    </tr>\n",
       "    <tr>\n",
       "      <th>1</th>\n",
       "      <td>Windows Content Delivery Manager would relate ...</td>\n",
       "      <td>41</td>\n",
       "    </tr>\n",
       "    <tr>\n",
       "      <th>2</th>\n",
       "      <td>hi joydeep sir my issues resolved.thnks a lot.</td>\n",
       "      <td>6</td>\n",
       "    </tr>\n",
       "    <tr>\n",
       "      <th>3</th>\n",
       "      <td>I had a couple of problems and contacted Micro...</td>\n",
       "      <td>41</td>\n",
       "    </tr>\n",
       "    <tr>\n",
       "      <th>4</th>\n",
       "      <td>Thank you for posting in Microsoft Community. ...</td>\n",
       "      <td>126</td>\n",
       "    </tr>\n",
       "  </tbody>\n",
       "</table>\n",
       "</div>"
      ],
      "text/plain": [
       "                                           utterance  utter_len_unique\n",
       "0  hi joydeep sir getting error on event viewer ,...                23\n",
       "1  Windows Content Delivery Manager would relate ...                41\n",
       "2     hi joydeep sir my issues resolved.thnks a lot.                 6\n",
       "3  I had a couple of problems and contacted Micro...                41\n",
       "4  Thank you for posting in Microsoft Community. ...               126"
      ]
     },
     "execution_count": 180,
     "metadata": {},
     "output_type": "execute_result"
    }
   ],
   "source": [
    "# Utterance Length Stemmed Unique\n",
    "utter_len_stemmed_unique = []\n",
    "\n",
    "for u in utter_without_sw_stem:\n",
    "    u_without_punctuation = re.sub(r'[^\\w\\s]','',u)\n",
    "    utter_len_stemmed_unique.append(len(set(word_tokenize(u_without_punctuation.lower()))))\n",
    "\n",
    "data_10 = {'utterance': utter, 'utter_len_unique': utter_len_stemmed_unique}\n",
    "df_10 = pd.DataFrame(data_10)\n",
    "df_10.to_csv(r'STRUC_utterance_length_stemmed_unique.csv', index=False)\n",
    "df_10.head()"
   ]
  },
  {
   "cell_type": "code",
   "execution_count": 181,
   "metadata": {},
   "outputs": [
    {
     "data": {
      "text/html": [
       "<div>\n",
       "<style scoped>\n",
       "    .dataframe tbody tr th:only-of-type {\n",
       "        vertical-align: middle;\n",
       "    }\n",
       "\n",
       "    .dataframe tbody tr th {\n",
       "        vertical-align: top;\n",
       "    }\n",
       "\n",
       "    .dataframe thead th {\n",
       "        text-align: right;\n",
       "    }\n",
       "</style>\n",
       "<table border=\"1\" class=\"dataframe\">\n",
       "  <thead>\n",
       "    <tr style=\"text-align: right;\">\n",
       "      <th></th>\n",
       "      <th>utterance</th>\n",
       "      <th>is_starter</th>\n",
       "    </tr>\n",
       "  </thead>\n",
       "  <tbody>\n",
       "    <tr>\n",
       "      <th>0</th>\n",
       "      <td>hi joydeep sir getting error on event viewer ,...</td>\n",
       "      <td>True</td>\n",
       "    </tr>\n",
       "    <tr>\n",
       "      <th>1</th>\n",
       "      <td>Windows Content Delivery Manager would relate ...</td>\n",
       "      <td>False</td>\n",
       "    </tr>\n",
       "    <tr>\n",
       "      <th>2</th>\n",
       "      <td>hi joydeep sir my issues resolved.thnks a lot.</td>\n",
       "      <td>True</td>\n",
       "    </tr>\n",
       "    <tr>\n",
       "      <th>3</th>\n",
       "      <td>I had a couple of problems and contacted Micro...</td>\n",
       "      <td>True</td>\n",
       "    </tr>\n",
       "    <tr>\n",
       "      <th>4</th>\n",
       "      <td>Thank you for posting in Microsoft Community. ...</td>\n",
       "      <td>False</td>\n",
       "    </tr>\n",
       "  </tbody>\n",
       "</table>\n",
       "</div>"
      ],
      "text/plain": [
       "                                           utterance  is_starter\n",
       "0  hi joydeep sir getting error on event viewer ,...        True\n",
       "1  Windows Content Delivery Manager would relate ...       False\n",
       "2     hi joydeep sir my issues resolved.thnks a lot.        True\n",
       "3  I had a couple of problems and contacted Micro...        True\n",
       "4  Thank you for posting in Microsoft Community. ...       False"
      ]
     },
     "execution_count": 181,
     "metadata": {},
     "output_type": "execute_result"
    }
   ],
   "source": [
    "# Is Starter\n",
    "data_11 = {'utterance': utter, 'is_starter': is_user}\n",
    "df_11 = pd.DataFrame(data_11)\n",
    "df_11.to_csv(r'STRUC_is_starter.csv', index=False)\n",
    "df_11.head()"
   ]
  },
  {
   "cell_type": "markdown",
   "metadata": {},
   "source": [
    "# Sentiment features"
   ]
  },
  {
   "cell_type": "code",
   "execution_count": 182,
   "metadata": {},
   "outputs": [
    {
     "data": {
      "text/html": [
       "<div>\n",
       "<style scoped>\n",
       "    .dataframe tbody tr th:only-of-type {\n",
       "        vertical-align: middle;\n",
       "    }\n",
       "\n",
       "    .dataframe tbody tr th {\n",
       "        vertical-align: top;\n",
       "    }\n",
       "\n",
       "    .dataframe thead th {\n",
       "        text-align: right;\n",
       "    }\n",
       "</style>\n",
       "<table border=\"1\" class=\"dataframe\">\n",
       "  <thead>\n",
       "    <tr style=\"text-align: right;\">\n",
       "      <th></th>\n",
       "      <th>utterance</th>\n",
       "      <th>contain_thank</th>\n",
       "    </tr>\n",
       "  </thead>\n",
       "  <tbody>\n",
       "    <tr>\n",
       "      <th>0</th>\n",
       "      <td>hi joydeep sir getting error on event viewer ,...</td>\n",
       "      <td>False</td>\n",
       "    </tr>\n",
       "    <tr>\n",
       "      <th>1</th>\n",
       "      <td>Windows Content Delivery Manager would relate ...</td>\n",
       "      <td>False</td>\n",
       "    </tr>\n",
       "    <tr>\n",
       "      <th>2</th>\n",
       "      <td>hi joydeep sir my issues resolved.thnks a lot.</td>\n",
       "      <td>False</td>\n",
       "    </tr>\n",
       "    <tr>\n",
       "      <th>3</th>\n",
       "      <td>I had a couple of problems and contacted Micro...</td>\n",
       "      <td>False</td>\n",
       "    </tr>\n",
       "    <tr>\n",
       "      <th>4</th>\n",
       "      <td>Thank you for posting in Microsoft Community. ...</td>\n",
       "      <td>True</td>\n",
       "    </tr>\n",
       "  </tbody>\n",
       "</table>\n",
       "</div>"
      ],
      "text/plain": [
       "                                           utterance  contain_thank\n",
       "0  hi joydeep sir getting error on event viewer ,...          False\n",
       "1  Windows Content Delivery Manager would relate ...          False\n",
       "2     hi joydeep sir my issues resolved.thnks a lot.          False\n",
       "3  I had a couple of problems and contacted Micro...          False\n",
       "4  Thank you for posting in Microsoft Community. ...           True"
      ]
     },
     "execution_count": 182,
     "metadata": {},
     "output_type": "execute_result"
    }
   ],
   "source": [
    "# Thank\n",
    "thank = []\n",
    "\n",
    "for i in range(len(utter)):\n",
    "    has_thank = 'thank' in utter[i].lower()\n",
    "    thank.append(has_thank)\n",
    "\n",
    "data_12 = {'utterance': utter, 'contain_thank': thank}\n",
    "df_12 = pd.DataFrame(data_12)\n",
    "df_12.to_csv(r'SENTI_thank.csv', index=False)\n",
    "df_12.head()"
   ]
  },
  {
   "cell_type": "code",
   "execution_count": 183,
   "metadata": {},
   "outputs": [
    {
     "data": {
      "text/html": [
       "<div>\n",
       "<style scoped>\n",
       "    .dataframe tbody tr th:only-of-type {\n",
       "        vertical-align: middle;\n",
       "    }\n",
       "\n",
       "    .dataframe tbody tr th {\n",
       "        vertical-align: top;\n",
       "    }\n",
       "\n",
       "    .dataframe thead th {\n",
       "        text-align: right;\n",
       "    }\n",
       "</style>\n",
       "<table border=\"1\" class=\"dataframe\">\n",
       "  <thead>\n",
       "    <tr style=\"text-align: right;\">\n",
       "      <th></th>\n",
       "      <th>utterance</th>\n",
       "      <th>exclamation_mark</th>\n",
       "    </tr>\n",
       "  </thead>\n",
       "  <tbody>\n",
       "    <tr>\n",
       "      <th>0</th>\n",
       "      <td>hi joydeep sir getting error on event viewer ,...</td>\n",
       "      <td>False</td>\n",
       "    </tr>\n",
       "    <tr>\n",
       "      <th>1</th>\n",
       "      <td>Windows Content Delivery Manager would relate ...</td>\n",
       "      <td>False</td>\n",
       "    </tr>\n",
       "    <tr>\n",
       "      <th>2</th>\n",
       "      <td>hi joydeep sir my issues resolved.thnks a lot.</td>\n",
       "      <td>False</td>\n",
       "    </tr>\n",
       "    <tr>\n",
       "      <th>3</th>\n",
       "      <td>I had a couple of problems and contacted Micro...</td>\n",
       "      <td>False</td>\n",
       "    </tr>\n",
       "    <tr>\n",
       "      <th>4</th>\n",
       "      <td>Thank you for posting in Microsoft Community. ...</td>\n",
       "      <td>False</td>\n",
       "    </tr>\n",
       "  </tbody>\n",
       "</table>\n",
       "</div>"
      ],
      "text/plain": [
       "                                           utterance  exclamation_mark\n",
       "0  hi joydeep sir getting error on event viewer ,...             False\n",
       "1  Windows Content Delivery Manager would relate ...             False\n",
       "2     hi joydeep sir my issues resolved.thnks a lot.             False\n",
       "3  I had a couple of problems and contacted Micro...             False\n",
       "4  Thank you for posting in Microsoft Community. ...             False"
      ]
     },
     "execution_count": 183,
     "metadata": {},
     "output_type": "execute_result"
    }
   ],
   "source": [
    "# Exclamation Mark\n",
    "exclamation_mark = []\n",
    "\n",
    "for i in range(len(utter)):\n",
    "    has_exclamation_mark = '!' in utter[i]\n",
    "    exclamation_mark.append(has_exclamation_mark)\n",
    "\n",
    "data_13 = {'utterance': utter, 'exclamation_mark': exclamation_mark}\n",
    "df_13 = pd.DataFrame(data_13)\n",
    "df_13.to_csv(r'SENTI_exclamation_mark.csv', index=False)\n",
    "df_13.head()"
   ]
  },
  {
   "cell_type": "code",
   "execution_count": 184,
   "metadata": {},
   "outputs": [
    {
     "data": {
      "text/html": [
       "<div>\n",
       "<style scoped>\n",
       "    .dataframe tbody tr th:only-of-type {\n",
       "        vertical-align: middle;\n",
       "    }\n",
       "\n",
       "    .dataframe tbody tr th {\n",
       "        vertical-align: top;\n",
       "    }\n",
       "\n",
       "    .dataframe thead th {\n",
       "        text-align: right;\n",
       "    }\n",
       "</style>\n",
       "<table border=\"1\" class=\"dataframe\">\n",
       "  <thead>\n",
       "    <tr style=\"text-align: right;\">\n",
       "      <th></th>\n",
       "      <th>utterance</th>\n",
       "      <th>feedback</th>\n",
       "    </tr>\n",
       "  </thead>\n",
       "  <tbody>\n",
       "    <tr>\n",
       "      <th>0</th>\n",
       "      <td>hi joydeep sir getting error on event viewer ,...</td>\n",
       "      <td>False</td>\n",
       "    </tr>\n",
       "    <tr>\n",
       "      <th>1</th>\n",
       "      <td>Windows Content Delivery Manager would relate ...</td>\n",
       "      <td>False</td>\n",
       "    </tr>\n",
       "    <tr>\n",
       "      <th>2</th>\n",
       "      <td>hi joydeep sir my issues resolved.thnks a lot.</td>\n",
       "      <td>False</td>\n",
       "    </tr>\n",
       "    <tr>\n",
       "      <th>3</th>\n",
       "      <td>I had a couple of problems and contacted Micro...</td>\n",
       "      <td>False</td>\n",
       "    </tr>\n",
       "    <tr>\n",
       "      <th>4</th>\n",
       "      <td>Thank you for posting in Microsoft Community. ...</td>\n",
       "      <td>False</td>\n",
       "    </tr>\n",
       "  </tbody>\n",
       "</table>\n",
       "</div>"
      ],
      "text/plain": [
       "                                           utterance  feedback\n",
       "0  hi joydeep sir getting error on event viewer ,...     False\n",
       "1  Windows Content Delivery Manager would relate ...     False\n",
       "2     hi joydeep sir my issues resolved.thnks a lot.     False\n",
       "3  I had a couple of problems and contacted Micro...     False\n",
       "4  Thank you for posting in Microsoft Community. ...     False"
      ]
     },
     "execution_count": 184,
     "metadata": {},
     "output_type": "execute_result"
    }
   ],
   "source": [
    "# Feedback\n",
    "feedback = []\n",
    "\n",
    "for i in range(len(utter)):\n",
    "    has_feedback = 'did not' in utter[i].lower() or 'does not' in utter[i].lower()\n",
    "    feedback.append(has_feedback)\n",
    "    \n",
    "data_14 = {'utterance': utter, 'feedback': feedback}\n",
    "df_14 = pd.DataFrame(data_14)\n",
    "df_14.to_csv(r'SENTI_feedback.csv', index=False)\n",
    "df_14.head()"
   ]
  },
  {
   "cell_type": "code",
   "execution_count": 185,
   "metadata": {},
   "outputs": [
    {
     "data": {
      "text/html": [
       "<div>\n",
       "<style scoped>\n",
       "    .dataframe tbody tr th:only-of-type {\n",
       "        vertical-align: middle;\n",
       "    }\n",
       "\n",
       "    .dataframe tbody tr th {\n",
       "        vertical-align: top;\n",
       "    }\n",
       "\n",
       "    .dataframe thead th {\n",
       "        text-align: right;\n",
       "    }\n",
       "</style>\n",
       "<table border=\"1\" class=\"dataframe\">\n",
       "  <thead>\n",
       "    <tr style=\"text-align: right;\">\n",
       "      <th></th>\n",
       "      <th>utterance</th>\n",
       "      <th>neg</th>\n",
       "      <th>neu</th>\n",
       "      <th>pos</th>\n",
       "      <th>compound</th>\n",
       "    </tr>\n",
       "  </thead>\n",
       "  <tbody>\n",
       "    <tr>\n",
       "      <th>0</th>\n",
       "      <td>hi joydeep sir getting error on event viewer ,...</td>\n",
       "      <td>0.129</td>\n",
       "      <td>0.714</td>\n",
       "      <td>0.157</td>\n",
       "      <td>0.0516</td>\n",
       "    </tr>\n",
       "    <tr>\n",
       "      <th>1</th>\n",
       "      <td>Windows Content Delivery Manager would relate ...</td>\n",
       "      <td>0.000</td>\n",
       "      <td>0.953</td>\n",
       "      <td>0.047</td>\n",
       "      <td>0.3818</td>\n",
       "    </tr>\n",
       "    <tr>\n",
       "      <th>2</th>\n",
       "      <td>hi joydeep sir my issues resolved.thnks a lot.</td>\n",
       "      <td>0.000</td>\n",
       "      <td>1.000</td>\n",
       "      <td>0.000</td>\n",
       "      <td>0.0000</td>\n",
       "    </tr>\n",
       "    <tr>\n",
       "      <th>3</th>\n",
       "      <td>I had a couple of problems and contacted Micro...</td>\n",
       "      <td>0.039</td>\n",
       "      <td>0.803</td>\n",
       "      <td>0.158</td>\n",
       "      <td>0.9042</td>\n",
       "    </tr>\n",
       "    <tr>\n",
       "      <th>4</th>\n",
       "      <td>Thank you for posting in Microsoft Community. ...</td>\n",
       "      <td>0.007</td>\n",
       "      <td>0.847</td>\n",
       "      <td>0.146</td>\n",
       "      <td>0.9899</td>\n",
       "    </tr>\n",
       "  </tbody>\n",
       "</table>\n",
       "</div>"
      ],
      "text/plain": [
       "                                           utterance    neg    neu    pos  \\\n",
       "0  hi joydeep sir getting error on event viewer ,...  0.129  0.714  0.157   \n",
       "1  Windows Content Delivery Manager would relate ...  0.000  0.953  0.047   \n",
       "2     hi joydeep sir my issues resolved.thnks a lot.  0.000  1.000  0.000   \n",
       "3  I had a couple of problems and contacted Micro...  0.039  0.803  0.158   \n",
       "4  Thank you for posting in Microsoft Community. ...  0.007  0.847  0.146   \n",
       "\n",
       "   compound  \n",
       "0    0.0516  \n",
       "1    0.3818  \n",
       "2    0.0000  \n",
       "3    0.9042  \n",
       "4    0.9899  "
      ]
     },
     "execution_count": 185,
     "metadata": {},
     "output_type": "execute_result"
    }
   ],
   "source": [
    "# Sentiment Scores\n",
    "neg = []\n",
    "neu = []\n",
    "pos = []\n",
    "compound = []\n",
    "\n",
    "analyser = SentimentIntensityAnalyzer()\n",
    "\n",
    "for u in utter:\n",
    "    score = analyser.polarity_scores(u)\n",
    "    neg.append(score['neg'])\n",
    "    neu.append(score['neu'])\n",
    "    pos.append(score['pos'])\n",
    "    compound.append(score['compound'])\n",
    "    \n",
    "data_15 = {'utterance': utter, 'neg': neg, 'neu': neu, 'pos': pos, 'compound': compound}\n",
    "df_15 = pd.DataFrame(data_15)\n",
    "df_15.to_csv(r'SENTI_sentiment_scores.csv', index=False)\n",
    "df_15.head()"
   ]
  },
  {
   "cell_type": "code",
   "execution_count": null,
   "metadata": {},
   "outputs": [],
   "source": [
    "# Opinion Lexicon"
   ]
  }
 ],
 "metadata": {
  "kernelspec": {
   "display_name": "Python 3",
   "language": "python",
   "name": "python3"
  },
  "language_info": {
   "codemirror_mode": {
    "name": "ipython",
    "version": 3
   },
   "file_extension": ".py",
   "mimetype": "text/x-python",
   "name": "python",
   "nbconvert_exporter": "python",
   "pygments_lexer": "ipython3",
   "version": "3.7.3"
  }
 },
 "nbformat": 4,
 "nbformat_minor": 2
}
