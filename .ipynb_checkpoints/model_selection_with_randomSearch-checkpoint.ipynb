{
 "cells": [
  {
   "cell_type": "code",
   "execution_count": 1,
   "metadata": {},
   "outputs": [],
   "source": [
    "import numpy as np\n",
    "import matplotlib.pyplot as plt\n",
    "import pandas as pd\n",
    "import itertools\n",
    "import warnings\n",
    "warnings.filterwarnings('ignore')\n",
    "\n",
    "from sklearn.model_selection import train_test_split\n",
    "from sklearn.multioutput import ClassifierChain\n",
    "from sklearn.multiclass import OneVsRestClassifier\n",
    "\n",
    "from sklearn.naive_bayes import GaussianNB\n",
    "from sklearn.svm import SVC\n",
    "from sklearn.ensemble import RandomForestClassifier\n",
    "from sklearn.ensemble import AdaBoostClassifier\n",
    "from sklearn.neighbors import KNeighborsClassifier\n",
    "from sklearn.model_selection import RandomizedSearchCV\n",
    "from sklearn.multioutput import MultiOutputClassifier\n",
    "from sklearn.metrics import accuracy_score,f1_score, precision_score, recall_score\n",
    "\n",
    "from tqdm import tqdm_notebook\n",
    "import random"
   ]
  },
  {
   "cell_type": "code",
   "execution_count": 2,
   "metadata": {},
   "outputs": [],
   "source": [
    "x_train = pd.read_csv('data/x_train.csv')\n",
    "y_train = pd.read_csv('data/y_train.csv')\n",
    "x_val = pd.read_csv('data/x_val.csv')\n",
    "y_val = pd.read_csv('data/y_val.csv')\n",
    "x_test = pd.read_csv('data/x_test.csv')\n",
    "y_test = pd.read_csv('data/y_test.csv')"
   ]
  },
  {
   "cell_type": "code",
   "execution_count": 8,
   "metadata": {},
   "outputs": [],
   "source": [
    "def classifier_chain(model, x_train, y_train, x_test, y_test,num_chain = 10):\n",
    "    if 'utterance' in x_train.columns:\n",
    "        x_train = x_train.drop('utterance', axis=1)\n",
    "        x_test = x_test.drop('utterance', axis=1)\n",
    "    chains = [ClassifierChain(model, order='random', random_state=i)\n",
    "              for i in range(num_chain)]\n",
    "    for chain in chains:\n",
    "        chain.fit(x_train, y_train)\n",
    "\n",
    "    y_pred = np.array([chain.predict(x_test) for chain in\n",
    "                              chains]).mean(axis=0)\n",
    "    \n",
    "    acc = np.mean(np.sum(np.logical_and((y_pred>0.5), y_test), axis = 1)/np.sum(np.logical_or((y_pred>0.5), y_test), axis = 1))\n",
    "    precision = np.mean(np.sum(np.logical_and((y_pred>0.5), y_test), axis = 1)/np.sum((y_pred>0.5), axis = 1))\n",
    "    recall = np.mean(np.sum(np.logical_and((y_pred>0.5), y_test), axis = 1)/np.sum(y_test, axis = 1))\n",
    "    F1 = 2*(precision*recall)/(precision+recall)\n",
    "    return acc, precision, recall, F1\n"
   ]
  },
  {
   "cell_type": "markdown",
   "metadata": {},
   "source": [
    "GaussianNB : No hyperparameters needed"
   ]
  },
  {
   "cell_type": "code",
   "execution_count": 9,
   "metadata": {},
   "outputs": [
    {
     "name": "stdout",
     "output_type": "stream",
     "text": [
      "Accuracy: 0.3782589262589262\n",
      "Precision: 0.490134987049213\n",
      "Recall: 0.6117106227106228\n",
      "F1 score: 0.5442155878907348\n"
     ]
    }
   ],
   "source": [
    "NB = GaussianNB()\n",
    "acc, precision, recall, F1 = classifier_chain(NB,x_train, y_train, x_test,y_test)\n",
    "print('Accuracy:', acc)\n",
    "print('Precision:', precision)\n",
    "print('Recall:', recall)\n",
    "print('F1 score:', F1)"
   ]
  },
  {
   "cell_type": "code",
   "execution_count": null,
   "metadata": {},
   "outputs": [],
   "source": [
    "# clf2 = MultiOutputClassifier(GaussianNB()).fit(x_train, y_train)\n",
    "\n",
    "# y_pred = clf2.predict(x_test)\n",
    "# acc = np.mean(np.sum(np.logical_and((y_pred>0.5), y_test), axis = 1)/np.sum(np.logical_or((y_pred>0.5), y_test), axis = 1))\n",
    "# precision = np.mean(np.sum(np.logical_and((y_pred>0.5), y_test), axis = 1)/np.sum((y_pred>0.5), axis = 1))\n",
    "# recall = np.mean(np.sum(np.logical_and((y_pred>0.5), y_test), axis = 1)/np.sum(y_test, axis = 1))\n",
    "# F1 = 2*(precision*recall)/(precision+recall)\n",
    "\n",
    "# print('Accuracy:', acc)\n",
    "# print('Precision:', precision)\n",
    "# print('Recall:', recall)\n",
    "# print('F1 score:', F1)"
   ]
  },
  {
   "cell_type": "markdown",
   "metadata": {},
   "source": [
    "SVM"
   ]
  },
  {
   "cell_type": "code",
   "execution_count": null,
   "metadata": {},
   "outputs": [],
   "source": [
    "cols = [\"c\",\"kernel\", \"gamma\",\"acc\",\"pre\",\"rec\",\"f1\"]\n",
    "svm_val_result = []\n",
    "c_values= [0.2,0.4,0.6, 1,1.5, 2]\n",
    "kernels = [\"rbf\",\"poly\",\"sigmoid\"] \n",
    "gamma = [\"scale\",\"auto\"]\n",
    "param_zips = list(itertools.product(c_values, kernels, gamma))\n",
    "selected_params = np.sample(param_zips,k=5)\n",
    "\n",
    "for (c, kernel, gamma) in tqdm_notebook(selected_params):\n",
    "    svm_clf = SVC(C=c, kernel=kernel, gamma=gamma)\n",
    "    acc, precision, recall, F1 = classifier_chain(svm_clf,x_val, y_val)\n",
    "    svm_val_result = svm_val_result.append([c,kernel, gamma, acc, precision, recall, F1])"
   ]
  },
  {
   "cell_type": "code",
   "execution_count": null,
   "metadata": {},
   "outputs": [],
   "source": [
    "svm_val_df = pd.DataFrame(svm_val_result,columns=col)\n",
    "svm_val_df"
   ]
  },
  {
   "cell_type": "markdown",
   "metadata": {},
   "source": [
    "RandomForest"
   ]
  },
  {
   "cell_type": "code",
   "execution_count": null,
   "metadata": {},
   "outputs": [
    {
     "data": {
      "application/vnd.jupyter.widget-view+json": {
       "model_id": "c3209e67e9d64e69b21d7059ad17c6fa",
       "version_major": 2,
       "version_minor": 0
      },
      "text/plain": [
       "HBox(children=(IntProgress(value=0, max=1), HTML(value='')))"
      ]
     },
     "metadata": {},
     "output_type": "display_data"
    }
   ],
   "source": [
    "max_depth = [int(x) for x in np.linspace(5, 50, num = 3)]\n",
    "min_samples_split = [2, 5, 10]\n",
    "min_samples_leaf = [1, 2, 4]\n",
    "rf_val_result = []\n",
    "param_zips = list(itertools.product(max_depth, min_samples_split,min_samples_leaf))\n",
    "selected_params = random.sample(param_zips, k=1)\n",
    "\n",
    "for (depth, split, leaf) in tqdm_notebook(selected_params):\n",
    "    rf_clf = RandomForestClassifier(n_estimators=100, max_depth=depth, min_samples_split= split, min_samples_leaf=leaf,n_jobs=3)\n",
    "    acc, precision, recall, F1 = classifier_chain(rf_clf,x_train, y_train, x_val, y_val)\n",
    "    rf_val_result.append([depth, split, leaf, acc, precision, recall, F1])"
   ]
  },
  {
   "cell_type": "code",
   "execution_count": null,
   "metadata": {},
   "outputs": [],
   "source": [
    "rf_val_df = pd.DataFrame(rf_val_result)\n",
    "rf_val_df"
   ]
  },
  {
   "cell_type": "markdown",
   "metadata": {},
   "source": [
    "KNN"
   ]
  },
  {
   "cell_type": "code",
   "execution_count": null,
   "metadata": {
    "scrolled": true
   },
   "outputs": [],
   "source": [
    "k_s = list(range(1,11,2))\n",
    "knn_val_result = []\n",
    "for k in tqdm_notebook(k_s):\n",
    "    rf_clf = KNeighborsClassifier(n_neighbors=k)\n",
    "    acc, precision, recall, F1 = classifier_chain(rf_clf,x_val, y_val)\n",
    "    knn_val_result.append([k, acc, precision, recall, F1])"
   ]
  },
  {
   "cell_type": "code",
   "execution_count": null,
   "metadata": {},
   "outputs": [],
   "source": [
    "knn_val_df = pd.DataFrame(knn_val_result)\n",
    "knn_val_df"
   ]
  },
  {
   "cell_type": "markdown",
   "metadata": {},
   "source": [
    "Adaboost"
   ]
  },
  {
   "cell_type": "code",
   "execution_count": null,
   "metadata": {},
   "outputs": [],
   "source": [
    "n_estimators = [50, 100]\n",
    "learning_rates = [0.01,0.05,0.1,0.3,1]\n",
    "ada_val_result = []\n",
    "params_zips = list(itertools.product(n_estimators, learning_rates))\n",
    "# select 5 parameters\n",
    "selected_params = random.sample(params_zips,k=5)\n",
    "\n",
    "for (n_estimator, learning_rate) in tqdm_notebook(selected_params):\n",
    "    rf_clf = AdaBoostClassifier(n_estimators=n_estimator, learning_rate=learning_rate)\n",
    "    acc, precision, recall, F1 = classifier_chain(rf_clf,x_val, y_val)\n",
    "    ada_val_result.append([n_estimator, learning_rate, acc, precision, recall, F1])"
   ]
  },
  {
   "cell_type": "code",
   "execution_count": null,
   "metadata": {},
   "outputs": [],
   "source": [
    "ada_val_df = pd.DataFrame(ada_val_result)\n",
    "ada_val_df"
   ]
  },
  {
   "cell_type": "code",
   "execution_count": null,
   "metadata": {},
   "outputs": [],
   "source": []
  },
  {
   "cell_type": "code",
   "execution_count": null,
   "metadata": {},
   "outputs": [],
   "source": []
  }
 ],
 "metadata": {
  "kernelspec": {
   "display_name": "Python 3",
   "language": "python",
   "name": "python3"
  },
  "language_info": {
   "codemirror_mode": {
    "name": "ipython",
    "version": 3
   },
   "file_extension": ".py",
   "mimetype": "text/x-python",
   "name": "python",
   "nbconvert_exporter": "python",
   "pygments_lexer": "ipython3",
   "version": "3.7.1"
  }
 },
 "nbformat": 4,
 "nbformat_minor": 2
}
