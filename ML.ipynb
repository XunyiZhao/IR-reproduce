{
 "cells": [
  {
   "cell_type": "code",
   "execution_count": 53,
   "metadata": {},
   "outputs": [],
   "source": [
    "import numpy as np\n",
    "import matplotlib.pyplot as plt\n",
    "import pandas as pd\n",
    "import warnings\n",
    "warnings.filterwarnings('ignore')"
   ]
  },
  {
   "cell_type": "code",
   "execution_count": 67,
   "metadata": {},
   "outputs": [],
   "source": [
    "from sklearn.model_selection import train_test_split\n",
    "from sklearn.multioutput import ClassifierChain\n",
    "from sklearn.multiclass import OneVsRestClassifier\n",
    "\n",
    "from sklearn.naive_bayes import GaussianNB\n",
    "from sklearn.svm import SVC\n",
    "from sklearn.ensemble import RandomForestClassifier\n",
    "from sklearn.ensemble import AdaBoostClassifier\n",
    "from sklearn.neighbors import KNeighborsClassifier"
   ]
  },
  {
   "cell_type": "code",
   "execution_count": 26,
   "metadata": {},
   "outputs": [],
   "source": [
    "x = pd.read_csv('data/x.csv')\n",
    "y = pd.read_csv('data/y.csv')\n",
    "\n",
    "x_train, x_val, y_train, y_val = train_test_split(x, y, test_size=0.1)\n",
    "x_train, x_test, y_train, y_test = train_test_split(x_train, y_train, test_size=0.1)"
   ]
  },
  {
   "cell_type": "code",
   "execution_count": 68,
   "metadata": {},
   "outputs": [],
   "source": [
    "NB = GaussianNB()\n",
    "SVM = SVC()\n",
    "RF = RandomForestClassifier()\n",
    "AdaBoost = AdaBoostClassifier()\n",
    "KNN = KNeighborsClassifier()"
   ]
  },
  {
   "cell_type": "code",
   "execution_count": 58,
   "metadata": {},
   "outputs": [],
   "source": [
    "def classifier_chain(model, num_chian = 10):\n",
    "    chains = [ClassifierChain(model, order='random', random_state=i)\n",
    "              for i in range(num_chian)]\n",
    "    for chain in chains:\n",
    "        chain.fit(x_train.drop('utterance', axis=1), y_train)\n",
    "\n",
    "    y_pred = np.array([chain.predict(x_test.drop('utterance', axis=1)) for chain in\n",
    "                              chains]).mean(axis=0)\n",
    "    \n",
    "    acc = np.mean(np.sum(np.logical_and((y_pred>0.5), y_test), axis = 1)/np.sum(np.logical_or((y_pred>0.5), y_test), axis = 1))\n",
    "    precision = np.mean(np.sum(np.logical_and((y_pred>0.5), y_test), axis = 1)/np.sum((y_pred>0.5), axis = 1))\n",
    "    recall = np.mean(np.sum(np.logical_and((y_pred>0.5), y_test), axis = 1)/np.sum(y_test, axis = 1))\n",
    "    F1 = 2*(precision*recall)/(precision+recall)\n",
    "    \n",
    "    print('Accuracy:', acc)\n",
    "    print('Precision:', precision)\n",
    "    print('Recall:', recall)\n",
    "    print('F1 score:', F1)"
   ]
  },
  {
   "cell_type": "code",
   "execution_count": 59,
   "metadata": {},
   "outputs": [
    {
     "name": "stdout",
     "output_type": "stream",
     "text": [
      "Accuracy: 0.3107019674092845\n",
      "Precision: 0.4761564625850341\n",
      "Recall: 0.5469155844155843\n",
      "F1 score: 0.5090890534472667\n"
     ]
    }
   ],
   "source": [
    "classifier_chain(NB)"
   ]
  },
  {
   "cell_type": "code",
   "execution_count": 57,
   "metadata": {},
   "outputs": [
    {
     "name": "stdout",
     "output_type": "stream",
     "text": [
      "Accuracy: 0.4198909830007391\n",
      "Precision: 0.7879310344827586\n",
      "Recall: 0.42306910569105693\n",
      "F1 score: 0.5505354905359536\n",
      "Wall time: 9min 14s\n"
     ]
    }
   ],
   "source": [
    "%%time\n",
    "classifier_chain(SVM)"
   ]
  },
  {
   "cell_type": "code",
   "execution_count": 60,
   "metadata": {},
   "outputs": [
    {
     "name": "stdout",
     "output_type": "stream",
     "text": [
      "Accuracy: 0.5643873403019743\n",
      "Precision: 0.847682119205298\n",
      "Recall: 0.5663274733396685\n",
      "F1 score: 0.6790133182911708\n",
      "Wall time: 17.3 s\n"
     ]
    }
   ],
   "source": [
    "%%time\n",
    "classifier_chain(RF)"
   ]
  },
  {
   "cell_type": "code",
   "execution_count": 61,
   "metadata": {},
   "outputs": [
    {
     "name": "stdout",
     "output_type": "stream",
     "text": [
      "Accuracy: 0.596593548727695\n",
      "Precision: 0.8014588329336532\n",
      "Recall: 0.6077908879738148\n",
      "F1 score: 0.6913173279601974\n",
      "Wall time: 2min 41s\n"
     ]
    }
   ],
   "source": [
    "%%time\n",
    "classifier_chain(AdaBoost)"
   ]
  },
  {
   "cell_type": "code",
   "execution_count": 70,
   "metadata": {},
   "outputs": [
    {
     "name": "stdout",
     "output_type": "stream",
     "text": [
      "Accuracy: 0.3906455671699574\n",
      "Precision: 0.6158508158508158\n",
      "Recall: 0.40373244641537326\n",
      "F1 score: 0.48772663442456476\n"
     ]
    }
   ],
   "source": [
    "KNN.fit(x_train.drop('utterance', axis=1), y_train)\n",
    "y_pred = KNN.predict(x_test.drop('utterance', axis=1))\n",
    "\n",
    "acc = np.mean(np.sum(np.logical_and((y_pred>0.5), y_test), axis = 1)/np.sum(np.logical_or((y_pred>0.5), y_test), axis = 1))\n",
    "precision = np.mean(np.sum(np.logical_and((y_pred>0.5), y_test), axis = 1)/np.sum((y_pred>0.5), axis = 1))\n",
    "recall = np.mean(np.sum(np.logical_and((y_pred>0.5), y_test), axis = 1)/np.sum(y_test, axis = 1))\n",
    "F1 = 2*(precision*recall)/(precision+recall)\n",
    "\n",
    "print('Accuracy:', acc)\n",
    "print('Precision:', precision)\n",
    "print('Recall:', recall)\n",
    "print('F1 score:', F1)"
   ]
  }
 ],
 "metadata": {
  "kernelspec": {
   "display_name": "Python 3",
   "language": "python",
   "name": "python3"
  },
  "language_info": {
   "codemirror_mode": {
    "name": "ipython",
    "version": 3
   },
   "file_extension": ".py",
   "mimetype": "text/x-python",
   "name": "python",
   "nbconvert_exporter": "python",
   "pygments_lexer": "ipython3",
   "version": "3.7.1"
  }
 },
 "nbformat": 4,
 "nbformat_minor": 2
}
