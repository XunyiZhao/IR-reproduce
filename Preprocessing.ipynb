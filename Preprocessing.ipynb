{
 "cells": [
  {
   "cell_type": "code",
   "execution_count": 1,
   "metadata": {},
   "outputs": [
    {
     "name": "stderr",
     "output_type": "stream",
     "text": [
      "C:\\Users\\Shawn\\AppData\\Local\\Continuum\\anaconda3\\lib\\importlib\\_bootstrap.py:219: RuntimeWarning: numpy.ufunc size changed, may indicate binary incompatibility. Expected 192 from C header, got 216 from PyObject\n",
      "  return f(*args, **kwds)\n"
     ]
    }
   ],
   "source": [
    "import numpy as np\n",
    "import matplotlib.pyplot as plt\n",
    "import pandas as pd\n",
    "#from sklearn import datasets"
   ]
  },
  {
   "cell_type": "code",
   "execution_count": 53,
   "metadata": {},
   "outputs": [],
   "source": [
    "D_intent = pd.read_json('MSDialog-Intent.json')"
   ]
  },
  {
   "cell_type": "code",
   "execution_count": 74,
   "metadata": {},
   "outputs": [],
   "source": [
    "dialogs = []\n",
    "labels = []\n",
    "for d in D_intent.loc['utterances']:\n",
    "    dialogs.append([])\n",
    "    labels.append([])\n",
    "    for utter in d:\n",
    "        dialogs[-1].append(utter['utterance'])\n",
    "        labels[-1].append(utter['tags'])"
   ]
  },
  {
   "cell_type": "code",
   "execution_count": 87,
   "metadata": {},
   "outputs": [
    {
     "data": {
      "text/plain": [
       "1021"
      ]
     },
     "execution_count": 87,
     "metadata": {},
     "output_type": "execute_result"
    }
   ],
   "source": [
    "utter_count = 0\n",
    "for d in dia_test:\n",
    "    utter_count += len(d)\n",
    "utter_count"
   ]
  },
  {
   "cell_type": "code",
   "execution_count": 110,
   "metadata": {},
   "outputs": [],
   "source": [
    "from sklearn.model_selection import train_test_split\n",
    "dia_train, dia_val, labs_train, labs_val = train_test_split(dialogs, labels, test_size=0.1)\n",
    "dia_train, dia_test, labs_train, labs_test = train_test_split(dia_train, labs_train, test_size=0.1)"
   ]
  },
  {
   "cell_type": "code",
   "execution_count": 111,
   "metadata": {},
   "outputs": [],
   "source": [
    "def split(dia, labs):\n",
    "    utter = []\n",
    "    lab = []\n",
    "    for i in range(len(dia)):\n",
    "        utter += dia[i]\n",
    "        lab += labs[i]\n",
    "    return utter, lab"
   ]
  },
  {
   "cell_type": "code",
   "execution_count": 231,
   "metadata": {},
   "outputs": [],
   "source": [
    "utter, lab = split(dialogs, labels)\n",
    "utter_train, lab_train = split(dia_train, labs_train)\n",
    "utter_val, lab_val = split(dia_val, labs_val)\n",
    "utter_test, lab_test = split(dia_test, labs_test)"
   ]
  },
  {
   "cell_type": "code",
   "execution_count": 232,
   "metadata": {},
   "outputs": [
    {
     "name": "stdout",
     "output_type": "stream",
     "text": [
      "train size: 8102\n",
      "val size: 1011\n",
      "test size: 907\n"
     ]
    }
   ],
   "source": [
    "print('train size:', len(utter_train))\n",
    "print('val size:', len(utter_val))\n",
    "print('test size:', len(utter_test))"
   ]
  },
  {
   "cell_type": "code",
   "execution_count": 233,
   "metadata": {},
   "outputs": [],
   "source": [
    "for i in range(len(lab)):\n",
    "    ls = lab[i].split()\n",
    "    if 'GG' in ls and len(ls)>1:\n",
    "        ls.remove('GG')\n",
    "        lab[i] = ' '.join(ls)\n",
    "    if 'JK' in ls and len(ls)>1:\n",
    "        ls.remove('JK')\n",
    "        lab[i] = ' '.join(ls)\n",
    "    if 'O' in ls and len(ls)>1:\n",
    "        ls.remove('O')\n",
    "        lab[i] = ' '.join(ls)\n",
    "    lab[i] = lab[i].strip()"
   ]
  },
  {
   "cell_type": "code",
   "execution_count": 234,
   "metadata": {},
   "outputs": [],
   "source": [
    "import collections\n",
    "lab_freq = dict(collections.Counter(lab))"
   ]
  },
  {
   "cell_type": "code",
   "execution_count": 235,
   "metadata": {},
   "outputs": [
    {
     "data": {
      "text/plain": [
       "[('PA', 2481),\n",
       " ('OQ', 1866),\n",
       " ('PF', 559),\n",
       " ('PA FD', 523),\n",
       " ('FD', 500),\n",
       " ('GG', 346),\n",
       " ('IR PA', 227),\n",
       " ('FD NF', 198),\n",
       " ('FD OQ', 169),\n",
       " ('IR', 165),\n",
       " ('RQ', 153),\n",
       " ('PA IR', 144),\n",
       " ('PF FD', 140),\n",
       " ('NF', 140),\n",
       " ('FQ FD', 137),\n",
       " ('CQ FD', 116),\n",
       " ('FQ', 101),\n",
       " ('PA PF', 98),\n",
       " ('FD RQ', 87),\n",
       " ('CQ IR', 81),\n",
       " ('JK', 75),\n",
       " ('FQ RQ', 71),\n",
       " ('FD PF', 67),\n",
       " ('CQ PA', 62),\n",
       " ('FQ IR', 58),\n",
       " ('FQ CQ', 55),\n",
       " ('IR FD', 54),\n",
       " ('CQ IR PA', 51),\n",
       " ('RQ OQ', 49),\n",
       " ('IR OQ', 48),\n",
       " ('NF OQ', 47),\n",
       " ('FQ FD NF', 44)]"
      ]
     },
     "execution_count": 235,
     "metadata": {},
     "output_type": "execute_result"
    }
   ],
   "source": [
    "sorted(lab_freq.items(), key = lambda kv:(kv[1], kv[0]), reverse=True)[:32]"
   ]
  },
  {
   "cell_type": "code",
   "execution_count": 236,
   "metadata": {},
   "outputs": [],
   "source": [
    "label_list = ['O', 'CQ']\n",
    "for l in sorted(lab_freq.items(), key = lambda kv:(kv[1], kv[0]), reverse=True)[:31]:\n",
    "    label_list.append(l[0])"
   ]
  },
  {
   "cell_type": "code",
   "execution_count": 237,
   "metadata": {},
   "outputs": [],
   "source": [
    "def preprocess(lab):\n",
    "    new_lab = np.zeros([len(lab), len(label_list)])\n",
    "    for i, l in enumerate(lab):\n",
    "        for j, l_ in enumerate(label_list):\n",
    "            if l_ in l:\n",
    "                new_lab[i,j] = 1\n",
    "    return new_lab"
   ]
  },
  {
   "cell_type": "code",
   "execution_count": 238,
   "metadata": {},
   "outputs": [],
   "source": [
    "lab = preprocess(lab)\n",
    "lab_train = preprocess(lab_train)\n",
    "lab_val = preprocess(lab_val)\n",
    "lab_test = preprocess(lab_test)"
   ]
  }
 ],
 "metadata": {
  "kernelspec": {
   "display_name": "Python 3",
   "language": "python",
   "name": "python3"
  },
  "language_info": {
   "codemirror_mode": {
    "name": "ipython",
    "version": 3
   },
   "file_extension": ".py",
   "mimetype": "text/x-python",
   "name": "python",
   "nbconvert_exporter": "python",
   "pygments_lexer": "ipython3",
   "version": "3.7.1"
  }
 },
 "nbformat": 4,
 "nbformat_minor": 2
}
