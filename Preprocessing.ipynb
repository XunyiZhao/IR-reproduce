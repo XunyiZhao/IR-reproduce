{
 "cells": [
  {
   "cell_type": "code",
   "execution_count": 1,
   "metadata": {},
   "outputs": [],
   "source": [
    "import numpy as np\n",
    "import matplotlib.pyplot as plt\n",
    "import pandas as pd\n",
    "#from sklearn import datasets"
   ]
  },
  {
   "cell_type": "code",
   "execution_count": 2,
   "metadata": {},
   "outputs": [],
   "source": [
    "D_intent = pd.read_json('MSDialog-Intent.json')"
   ]
  },
  {
   "cell_type": "code",
   "execution_count": 3,
   "metadata": {},
   "outputs": [],
   "source": [
    "dialogs = []\n",
    "labels = []\n",
    "for d in D_intent.loc['utterances']:\n",
    "    dialogs.append([])\n",
    "    labels.append([])\n",
    "    for utter in d:\n",
    "        dialogs[-1].append(utter['utterance'])\n",
    "        labels[-1].append(utter['tags'])"
   ]
  },
  {
   "cell_type": "code",
   "execution_count": 5,
   "metadata": {},
   "outputs": [],
   "source": [
    "from sklearn.model_selection import train_test_split\n",
    "dia_train, dia_val, labs_train, labs_val = train_test_split(dialogs, labels, test_size=0.1)\n",
    "dia_train, dia_test, labs_train, labs_test = train_test_split(dia_train, labs_train, test_size=0.1)"
   ]
  },
  {
   "cell_type": "code",
   "execution_count": 6,
   "metadata": {},
   "outputs": [],
   "source": [
    "def split(dia, labs):\n",
    "    utter = []\n",
    "    lab = []\n",
    "    for i in range(len(dia)):\n",
    "        utter += dia[i]\n",
    "        lab += labs[i]\n",
    "    return utter, lab"
   ]
  },
  {
   "cell_type": "code",
   "execution_count": 7,
   "metadata": {},
   "outputs": [],
   "source": [
    "utter, lab = split(dialogs, labels)\n",
    "utter_train, lab_train = split(dia_train, labs_train)\n",
    "utter_val, lab_val = split(dia_val, labs_val)\n",
    "utter_test, lab_test = split(dia_test, labs_test)"
   ]
  },
  {
   "cell_type": "code",
   "execution_count": 8,
   "metadata": {},
   "outputs": [
    {
     "name": "stdout",
     "output_type": "stream",
     "text": [
      "train size: 8079\n",
      "val size: 1037\n",
      "test size: 904\n"
     ]
    }
   ],
   "source": [
    "print('train size:', len(utter_train))\n",
    "print('val size:', len(utter_val))\n",
    "print('test size:', len(utter_test))"
   ]
  },
  {
   "cell_type": "code",
   "execution_count": 9,
   "metadata": {},
   "outputs": [],
   "source": [
    "for i in range(len(lab)):\n",
    "    ls = lab[i].split()\n",
    "    if 'GG' in ls and len(ls)>1:\n",
    "        ls.remove('GG')\n",
    "        lab[i] = ' '.join(ls)\n",
    "    if 'JK' in ls and len(ls)>1:\n",
    "        ls.remove('JK')\n",
    "        lab[i] = ' '.join(ls)\n",
    "    if 'O' in ls and len(ls)>1:\n",
    "        ls.remove('O')\n",
    "        lab[i] = ' '.join(ls)\n",
    "    lab[i] = lab[i].strip()"
   ]
  },
  {
   "cell_type": "code",
   "execution_count": 10,
   "metadata": {},
   "outputs": [],
   "source": [
    "import collections\n",
    "lab_freq = dict(collections.Counter(lab))"
   ]
  },
  {
   "cell_type": "code",
   "execution_count": 11,
   "metadata": {},
   "outputs": [
    {
     "data": {
      "text/plain": [
       "[('PA', 2481),\n",
       " ('OQ', 1866),\n",
       " ('PF', 559),\n",
       " ('PA FD', 523),\n",
       " ('FD', 500),\n",
       " ('GG', 346),\n",
       " ('IR PA', 227),\n",
       " ('FD NF', 198),\n",
       " ('FD OQ', 169),\n",
       " ('IR', 165),\n",
       " ('RQ', 153),\n",
       " ('PA IR', 144),\n",
       " ('PF FD', 140),\n",
       " ('NF', 140),\n",
       " ('FQ FD', 137),\n",
       " ('CQ FD', 116),\n",
       " ('FQ', 101),\n",
       " ('PA PF', 98),\n",
       " ('FD RQ', 87),\n",
       " ('CQ IR', 81),\n",
       " ('JK', 75),\n",
       " ('FQ RQ', 71),\n",
       " ('FD PF', 67),\n",
       " ('CQ PA', 62),\n",
       " ('FQ IR', 58),\n",
       " ('FQ CQ', 55),\n",
       " ('IR FD', 54),\n",
       " ('CQ IR PA', 51),\n",
       " ('RQ OQ', 49),\n",
       " ('IR OQ', 48),\n",
       " ('NF OQ', 47),\n",
       " ('FQ FD NF', 44)]"
      ]
     },
     "execution_count": 11,
     "metadata": {},
     "output_type": "execute_result"
    }
   ],
   "source": [
    "sorted(lab_freq.items(), key = lambda kv:(kv[1], kv[0]), reverse=True)[:32]"
   ]
  },
  {
   "cell_type": "code",
   "execution_count": 12,
   "metadata": {},
   "outputs": [],
   "source": [
    "label_list = ['O', 'CQ']\n",
    "for l in sorted(lab_freq.items(), key = lambda kv:(kv[1], kv[0]), reverse=True)[:31]:\n",
    "    label_list.append(l[0])"
   ]
  },
  {
   "cell_type": "code",
   "execution_count": 13,
   "metadata": {},
   "outputs": [],
   "source": [
    "def preprocess(lab):\n",
    "    new_lab = np.zeros([len(lab), len(label_list)])\n",
    "    for i, l in enumerate(lab):\n",
    "        for j, l_ in enumerate(label_list):\n",
    "            if l_ in l:\n",
    "                new_lab[i,j] = 1\n",
    "    return new_lab"
   ]
  },
  {
   "cell_type": "code",
   "execution_count": 19,
   "metadata": {},
   "outputs": [],
   "source": [
    "lab = preprocess(lab)#labels of all data\n",
    "lab_train = preprocess(lab_train)#labels of train data\n",
    "lab_val = preprocess(lab_val)#labels of val data\n",
    "lab_test = preprocess(lab_test)#labels of test data"
   ]
  },
  {
   "cell_type": "code",
   "execution_count": 14,
   "metadata": {},
   "outputs": [
    {
     "data": {
      "text/plain": [
       "'how to get print bigger'"
      ]
     },
     "execution_count": 14,
     "metadata": {},
     "output_type": "execute_result"
    }
   ],
   "source": [
    "utter_train[0]"
   ]
  },
  {
   "cell_type": "code",
   "execution_count": 15,
   "metadata": {},
   "outputs": [
    {
     "data": {
      "text/plain": [
       "['how to get print bigger',\n",
       " 'Hi Michael Take a look at this. https://support.microsoft.com/en-us/kb/192391 After increasing font size press ctrl+P to print.',\n",
       " 'Hi   Assuming that you are using Internet Explorer and are referring to \"print\" on the screen (rather than on paper) then these keyboard shortcuts will adjust the zoom for the whole page:  CTRL + +        Zoom In  CTRL + -         Zoom Out  CTRL + 0        Set Zoom to 100%.  If you are using Internet Explorer you may click Page (on Command Bar) then Text size then select the text size you prefer.  The zoom controls above work with many other web browsers too.']"
      ]
     },
     "execution_count": 15,
     "metadata": {},
     "output_type": "execute_result"
    }
   ],
   "source": [
    "dia_train[0]"
   ]
  },
  {
   "cell_type": "code",
   "execution_count": 20,
   "metadata": {},
   "outputs": [
    {
     "data": {
      "text/plain": [
       "array([1., 0., 0., 1., 0., 0., 0., 0., 0., 0., 0., 0., 0., 0., 0., 0., 0.,\n",
       "       0., 0., 0., 0., 0., 0., 0., 0., 0., 0., 0., 0., 0., 0., 0., 0.])"
      ]
     },
     "execution_count": 20,
     "metadata": {},
     "output_type": "execute_result"
    }
   ],
   "source": [
    "lab_train[0]"
   ]
  },
  {
   "cell_type": "code",
   "execution_count": 21,
   "metadata": {},
   "outputs": [
    {
     "data": {
      "text/plain": [
       "['O',\n",
       " 'CQ',\n",
       " 'PA',\n",
       " 'OQ',\n",
       " 'PF',\n",
       " 'PA FD',\n",
       " 'FD',\n",
       " 'GG',\n",
       " 'IR PA',\n",
       " 'FD NF',\n",
       " 'FD OQ',\n",
       " 'IR',\n",
       " 'RQ',\n",
       " 'PA IR',\n",
       " 'PF FD',\n",
       " 'NF',\n",
       " 'FQ FD',\n",
       " 'CQ FD',\n",
       " 'FQ',\n",
       " 'PA PF',\n",
       " 'FD RQ',\n",
       " 'CQ IR',\n",
       " 'JK',\n",
       " 'FQ RQ',\n",
       " 'FD PF',\n",
       " 'CQ PA',\n",
       " 'FQ IR',\n",
       " 'FQ CQ',\n",
       " 'IR FD',\n",
       " 'CQ IR PA',\n",
       " 'RQ OQ',\n",
       " 'IR OQ',\n",
       " 'NF OQ']"
      ]
     },
     "execution_count": 21,
     "metadata": {},
     "output_type": "execute_result"
    }
   ],
   "source": [
    "label_list"
   ]
  }
 ],
 "metadata": {
  "kernelspec": {
   "display_name": "Python 3",
   "language": "python",
   "name": "python3"
  },
  "language_info": {
   "codemirror_mode": {
    "name": "ipython",
    "version": 3
   },
   "file_extension": ".py",
   "mimetype": "text/x-python",
   "name": "python",
   "nbconvert_exporter": "python",
   "pygments_lexer": "ipython3",
   "version": "3.7.1"
  }
 },
 "nbformat": 4,
 "nbformat_minor": 2
}
